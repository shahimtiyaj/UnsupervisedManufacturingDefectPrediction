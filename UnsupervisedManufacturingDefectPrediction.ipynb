{
 "cells": [
  {
   "cell_type": "code",
   "execution_count": 820,
   "id": "a66b0e22",
   "metadata": {},
   "outputs": [],
   "source": [
    "import matplotlib.pyplot as plt\n",
    "import cv2\n",
    "import numpy as np\n",
    "from keras.models import Sequential\n",
    "from keras.layers import Dense, Flatten, Conv2D, MaxPool2D, Dropout\n",
    "from tensorflow.keras.optimizers import SGD , Adam\n",
    "from keras.callbacks import ReduceLROnPlateau, EarlyStopping\n",
    "from tensorflow.keras.utils import to_categorical\n",
    "import pandas as pd\n",
    "import numpy as np\n",
    "from sklearn.model_selection import train_test_split\n",
    "from sklearn.utils import shuffle\n",
    "from sklearn.feature_extraction.text import TfidfVectorizer\n",
    "import seaborn as sns\n",
    "from sklearn.cluster import KMeans\n",
    "from mlxtend.plotting import plot_confusion_matrix\n",
    "from sklearn.metrics import confusion_matrix"
   ]
  },
  {
   "cell_type": "code",
   "execution_count": 821,
   "id": "4bfc6b7f",
   "metadata": {},
   "outputs": [],
   "source": [
    "#pip install mlxtend  "
   ]
  },
  {
   "cell_type": "code",
   "execution_count": 822,
   "id": "cf533128",
   "metadata": {},
   "outputs": [],
   "source": [
    "df = pd.read_csv(\"F:/1.SecondSemester/Manufacturing/ManuData/Divide Excel File/ManuDataTest.csv\")"
   ]
  },
  {
   "cell_type": "code",
   "execution_count": 823,
   "id": "cfdfbeb7",
   "metadata": {},
   "outputs": [
    {
     "name": "stdout",
     "output_type": "stream",
     "text": [
      "9999\n",
      "184\n"
     ]
    }
   ],
   "source": [
    "nRow, nCol = df.shape # Shape gives the dimensions of data in thr form of rows and columns\n",
    "print(nRow)\n",
    "print(nCol)"
   ]
  },
  {
   "cell_type": "markdown",
   "id": "08878390",
   "metadata": {},
   "source": [
    "# Data Load ::"
   ]
  },
  {
   "cell_type": "code",
   "execution_count": 824,
   "id": "eb5b0447",
   "metadata": {},
   "outputs": [
    {
     "data": {
      "text/html": [
       "<div>\n",
       "<style scoped>\n",
       "    .dataframe tbody tr th:only-of-type {\n",
       "        vertical-align: middle;\n",
       "    }\n",
       "\n",
       "    .dataframe tbody tr th {\n",
       "        vertical-align: top;\n",
       "    }\n",
       "\n",
       "    .dataframe thead th {\n",
       "        text-align: right;\n",
       "    }\n",
       "</style>\n",
       "<table border=\"1\" class=\"dataframe\">\n",
       "  <thead>\n",
       "    <tr style=\"text-align: right;\">\n",
       "      <th></th>\n",
       "      <th>mac</th>\n",
       "      <th>ip</th>\n",
       "      <th>plc_ip</th>\n",
       "      <th>glpi_ip</th>\n",
       "      <th>insert_datetime</th>\n",
       "      <th>insert_datetime.1</th>\n",
       "      <th>fanuc_seriesName</th>\n",
       "      <th>fanuc_autoState</th>\n",
       "      <th>fanuc_runState_now</th>\n",
       "      <th>fanuc_runState_past</th>\n",
       "      <th>...</th>\n",
       "      <th>adc_adc7</th>\n",
       "      <th>adc_adc8</th>\n",
       "      <th>dio_di1</th>\n",
       "      <th>dio_di2</th>\n",
       "      <th>dio_di3</th>\n",
       "      <th>dio_di4</th>\n",
       "      <th>dio_do1</th>\n",
       "      <th>dio_do2</th>\n",
       "      <th>dio_do3</th>\n",
       "      <th>dio_do4</th>\n",
       "    </tr>\n",
       "  </thead>\n",
       "  <tbody>\n",
       "    <tr>\n",
       "      <th>0</th>\n",
       "      <td>D8BBC1555584</td>\n",
       "      <td>192.168.1.2</td>\n",
       "      <td>192.168.1.3</td>\n",
       "      <td>192.168.1.6</td>\n",
       "      <td>10/28/2022 14:41</td>\n",
       "      <td>Ethernet</td>\n",
       "      <td>Series 31i - MODEL B ( G40A-30.0 )</td>\n",
       "      <td>MEMORY</td>\n",
       "      <td>START</td>\n",
       "      <td>START</td>\n",
       "      <td>...</td>\n",
       "      <td>0</td>\n",
       "      <td>0</td>\n",
       "      <td>0</td>\n",
       "      <td>0</td>\n",
       "      <td>0</td>\n",
       "      <td>0</td>\n",
       "      <td>0</td>\n",
       "      <td>0</td>\n",
       "      <td>0</td>\n",
       "      <td>0</td>\n",
       "    </tr>\n",
       "    <tr>\n",
       "      <th>1</th>\n",
       "      <td>D8BBC1555584</td>\n",
       "      <td>192.168.1.2</td>\n",
       "      <td>192.168.1.3</td>\n",
       "      <td>192.168.1.6</td>\n",
       "      <td>10/28/2022 14:41</td>\n",
       "      <td>Ethernet</td>\n",
       "      <td>Series 31i - MODEL B ( G40A-30.0 )</td>\n",
       "      <td>MEMORY</td>\n",
       "      <td>START</td>\n",
       "      <td>START</td>\n",
       "      <td>...</td>\n",
       "      <td>0</td>\n",
       "      <td>0</td>\n",
       "      <td>0</td>\n",
       "      <td>0</td>\n",
       "      <td>0</td>\n",
       "      <td>0</td>\n",
       "      <td>0</td>\n",
       "      <td>0</td>\n",
       "      <td>0</td>\n",
       "      <td>0</td>\n",
       "    </tr>\n",
       "    <tr>\n",
       "      <th>2</th>\n",
       "      <td>D8BBC1555584</td>\n",
       "      <td>192.168.1.2</td>\n",
       "      <td>192.168.1.3</td>\n",
       "      <td>192.168.1.6</td>\n",
       "      <td>10/28/2022 14:41</td>\n",
       "      <td>Ethernet</td>\n",
       "      <td>Series 31i - MODEL B ( G40A-30.0 )</td>\n",
       "      <td>MEMORY</td>\n",
       "      <td>START</td>\n",
       "      <td>START</td>\n",
       "      <td>...</td>\n",
       "      <td>0</td>\n",
       "      <td>0</td>\n",
       "      <td>0</td>\n",
       "      <td>0</td>\n",
       "      <td>0</td>\n",
       "      <td>0</td>\n",
       "      <td>0</td>\n",
       "      <td>0</td>\n",
       "      <td>0</td>\n",
       "      <td>0</td>\n",
       "    </tr>\n",
       "    <tr>\n",
       "      <th>3</th>\n",
       "      <td>D8BBC1555584</td>\n",
       "      <td>192.168.1.2</td>\n",
       "      <td>192.168.1.3</td>\n",
       "      <td>192.168.1.6</td>\n",
       "      <td>10/28/2022 14:41</td>\n",
       "      <td>Ethernet</td>\n",
       "      <td>Series 31i - MODEL B ( G40A-30.0 )</td>\n",
       "      <td>MEMORY</td>\n",
       "      <td>START</td>\n",
       "      <td>START</td>\n",
       "      <td>...</td>\n",
       "      <td>0</td>\n",
       "      <td>0</td>\n",
       "      <td>0</td>\n",
       "      <td>0</td>\n",
       "      <td>0</td>\n",
       "      <td>0</td>\n",
       "      <td>0</td>\n",
       "      <td>0</td>\n",
       "      <td>0</td>\n",
       "      <td>0</td>\n",
       "    </tr>\n",
       "    <tr>\n",
       "      <th>4</th>\n",
       "      <td>D8BBC1555584</td>\n",
       "      <td>192.168.1.2</td>\n",
       "      <td>192.168.1.3</td>\n",
       "      <td>192.168.1.6</td>\n",
       "      <td>10/28/2022 14:41</td>\n",
       "      <td>Ethernet</td>\n",
       "      <td>Series 31i - MODEL B ( G40A-30.0 )</td>\n",
       "      <td>MEMORY</td>\n",
       "      <td>START</td>\n",
       "      <td>START</td>\n",
       "      <td>...</td>\n",
       "      <td>0</td>\n",
       "      <td>0</td>\n",
       "      <td>0</td>\n",
       "      <td>0</td>\n",
       "      <td>0</td>\n",
       "      <td>0</td>\n",
       "      <td>0</td>\n",
       "      <td>0</td>\n",
       "      <td>0</td>\n",
       "      <td>0</td>\n",
       "    </tr>\n",
       "  </tbody>\n",
       "</table>\n",
       "<p>5 rows × 184 columns</p>\n",
       "</div>"
      ],
      "text/plain": [
       "            mac           ip       plc_ip      glpi_ip   insert_datetime  \\\n",
       "0  D8BBC1555584  192.168.1.2  192.168.1.3  192.168.1.6  10/28/2022 14:41   \n",
       "1  D8BBC1555584  192.168.1.2  192.168.1.3  192.168.1.6  10/28/2022 14:41   \n",
       "2  D8BBC1555584  192.168.1.2  192.168.1.3  192.168.1.6  10/28/2022 14:41   \n",
       "3  D8BBC1555584  192.168.1.2  192.168.1.3  192.168.1.6  10/28/2022 14:41   \n",
       "4  D8BBC1555584  192.168.1.2  192.168.1.3  192.168.1.6  10/28/2022 14:41   \n",
       "\n",
       "  insert_datetime.1                    fanuc_seriesName fanuc_autoState  \\\n",
       "0          Ethernet  Series 31i - MODEL B ( G40A-30.0 )          MEMORY   \n",
       "1          Ethernet  Series 31i - MODEL B ( G40A-30.0 )          MEMORY   \n",
       "2          Ethernet  Series 31i - MODEL B ( G40A-30.0 )          MEMORY   \n",
       "3          Ethernet  Series 31i - MODEL B ( G40A-30.0 )          MEMORY   \n",
       "4          Ethernet  Series 31i - MODEL B ( G40A-30.0 )          MEMORY   \n",
       "\n",
       "  fanuc_runState_now fanuc_runState_past  ...  adc_adc7  adc_adc8  dio_di1  \\\n",
       "0              START               START  ...         0         0        0   \n",
       "1              START               START  ...         0         0        0   \n",
       "2              START               START  ...         0         0        0   \n",
       "3              START               START  ...         0         0        0   \n",
       "4              START               START  ...         0         0        0   \n",
       "\n",
       "   dio_di2  dio_di3  dio_di4  dio_do1  dio_do2  dio_do3  dio_do4  \n",
       "0        0        0        0        0        0        0        0  \n",
       "1        0        0        0        0        0        0        0  \n",
       "2        0        0        0        0        0        0        0  \n",
       "3        0        0        0        0        0        0        0  \n",
       "4        0        0        0        0        0        0        0  \n",
       "\n",
       "[5 rows x 184 columns]"
      ]
     },
     "execution_count": 824,
     "metadata": {},
     "output_type": "execute_result"
    }
   ],
   "source": [
    "df.head() #Visualized the dataset"
   ]
  },
  {
   "cell_type": "markdown",
   "id": "9575c14c",
   "metadata": {},
   "source": [
    "# Data Cleaning and Data-Preprocessing::\n",
    "* The dataset contains few missing values which must be cleaned and curated to proceed with our analysis.The following data cleaning steps were performed on the dataset:\n",
    " \n",
    "* Identifying the column containing missing values and Removing the unnecessary column"
   ]
  },
  {
   "cell_type": "code",
   "execution_count": 825,
   "id": "99d13ff3",
   "metadata": {},
   "outputs": [],
   "source": [
    "df.drop(['mac', 'ip', 'plc_ip', 'glpi_ip', 'insert_datetime', 'insert_datetime.1', 'fanuc_seriesName', 'fanuc_autoState', 'fanuc_runState_now', 'fanuc_runState_past', 'fanuc_seriesName', 'fanuc_autoState', 'fanuc_runState_now', 'fanuc_runState_past', 'fanuc_alarm_no', 'fanuc_alarm_msg'], axis = 1, inplace = True)\n",
    "#df.drop(['mac', 'ip', 'plc_ip', 'glpi_ip', 'insert_datetime', 'insert_datetime.1', 'fanuc_seriesName', 'fanuc_autoState', 'fanuc_runState_now', 'fanuc_runState_past', 'fanuc_seriesName', 'fanuc_autoState', 'fanuc_runState_now', 'fanuc_runState_past'], axis = 1, inplace = True) "
   ]
  },
  {
   "cell_type": "code",
   "execution_count": 826,
   "id": "a677a5ef",
   "metadata": {},
   "outputs": [
    {
     "data": {
      "text/plain": [
       "['fanuc_cycle_min',\n",
       " 'fanuc_cycle_sec',\n",
       " 'fanuc_rpm1',\n",
       " 'fanuc_rpm1_unit',\n",
       " 'fanuc_troq1',\n",
       " 'fanuc_troq1_unit',\n",
       " 'fanuc_gearRatio1',\n",
       " 'fanuc_rpm2',\n",
       " 'fanuc_rpm2_unit',\n",
       " 'fanuc_troq2',\n",
       " 'fanuc_troq2_unit',\n",
       " 'fanuc_gearRatio2',\n",
       " 'fanuc_rpm3',\n",
       " 'fanuc_rpm3_unit',\n",
       " 'fanuc_troq3',\n",
       " 'fanuc_troq3_unit',\n",
       " 'fanuc_gearRatio3',\n",
       " 'fanuc_rpm4',\n",
       " 'fanuc_rpm4_unit',\n",
       " 'fanuc_troq4',\n",
       " 'fanuc_troq4_unit',\n",
       " 'fanuc_gearRatio4',\n",
       " 'fanuc_toolNum',\n",
       " 'fanuc_absoluteX',\n",
       " 'fanuc_absoluteY',\n",
       " 'fanuc_absoluteZ',\n",
       " 'fanuc_relativeX',\n",
       " 'fanuc_relativeY',\n",
       " 'fanuc_relativeZ',\n",
       " 'fanuc_machineX',\n",
       " 'fanuc_machineY',\n",
       " 'fanuc_machineZ',\n",
       " 'fanuc_distanceX',\n",
       " 'fanuc_distanceY',\n",
       " 'fanuc_distanceZ',\n",
       " 'ep1_vr1',\n",
       " 'ep1_vs1',\n",
       " 'ep1_vt1',\n",
       " 'ep1_ar1',\n",
       " 'ep1_as1',\n",
       " 'ep1_at1',\n",
       " 'ep1_activeR1',\n",
       " 'ep1_activeS1',\n",
       " 'ep1_activeT1',\n",
       " 'ep1_activeTotal',\n",
       " 'ep1_reactiveR1',\n",
       " 'ep1_reactiveS1',\n",
       " 'ep1_reactiveT1',\n",
       " 'ep1_reactiveTotal',\n",
       " 'ep1_apparentR1',\n",
       " 'ep1_apparentS1',\n",
       " 'ep1_apparentT1',\n",
       " 'ep1_apparentTotal',\n",
       " 'ep1_powerFactorR1',\n",
       " 'ep1_powerFactorS1',\n",
       " 'ep1_powerFactorT1',\n",
       " 'ep1_pfTotal',\n",
       " 'ep1_frequency1',\n",
       " 'ep1_temperature1',\n",
       " 'ep2_vr2',\n",
       " 'ep2_vs2',\n",
       " 'ep2_vt2',\n",
       " 'ep2_ar2',\n",
       " 'ep2_as2',\n",
       " 'ep2_at2',\n",
       " 'ep2_activeR2',\n",
       " 'ep2_activeS2',\n",
       " 'ep2_activeT2',\n",
       " 'ep2_activeTotal',\n",
       " 'ep2_reactiveR2',\n",
       " 'ep2_reactiveS2',\n",
       " 'ep2_reactiveT2',\n",
       " 'ep2_reactiveTotal',\n",
       " 'ep2_apparentR2',\n",
       " 'ep2_apparentS2',\n",
       " 'ep2_apparentT2',\n",
       " 'ep2_apparentTotal',\n",
       " 'ep2_powerFactorR2',\n",
       " 'ep2_powerFactorS2',\n",
       " 'ep2_powerFactorT2',\n",
       " 'ep2_pfTotal',\n",
       " 'ep2_frequency2',\n",
       " 'ep2_temperature2',\n",
       " 'ep3_vr3',\n",
       " 'ep3_vs3',\n",
       " 'ep3_vt3',\n",
       " 'ep3_ar3',\n",
       " 'ep3_as3',\n",
       " 'ep3_at3',\n",
       " 'ep3_activeR3',\n",
       " 'ep3_activeS3',\n",
       " 'ep3_activeT3',\n",
       " 'ep3_activeTotal',\n",
       " 'ep3_reactiveR3',\n",
       " 'ep3_reactiveS3',\n",
       " 'ep3_reactiveT3',\n",
       " 'ep3_reactiveTotal',\n",
       " 'ep3_apparentR3',\n",
       " 'ep3_apparentS3',\n",
       " 'ep3_apparentT3',\n",
       " 'ep3_apparentTotal',\n",
       " 'ep3_powerFactorR3',\n",
       " 'ep3_powerFactorS3',\n",
       " 'ep3_powerFactorT3',\n",
       " 'ep3_pfTotal',\n",
       " 'ep3_frequency3',\n",
       " 'ep3_temperature3',\n",
       " 'ep4_vr4',\n",
       " 'ep4_vs4',\n",
       " 'ep4_vt4',\n",
       " 'ep4_ar4',\n",
       " 'ep4_as4',\n",
       " 'ep4_at4',\n",
       " 'ep4_activeR4',\n",
       " 'ep4_activeS4',\n",
       " 'ep4_activeT4',\n",
       " 'ep4_activeTotal',\n",
       " 'ep4_reactiveR4',\n",
       " 'ep4_reactiveS4',\n",
       " 'ep4_reactiveT4',\n",
       " 'ep4_reactiveTotal',\n",
       " 'ep4_apparentR4',\n",
       " 'ep4_apparentS4',\n",
       " 'ep4_apparentT4',\n",
       " 'ep4_apparentTotal',\n",
       " 'ep4_powerFactorR4',\n",
       " 'ep4_powerFactorS4',\n",
       " 'ep4_powerFactorT4',\n",
       " 'ep4_pfTotal',\n",
       " 'ep4_frequency4',\n",
       " 'ep4_temperature4',\n",
       " 'ep5_vr5',\n",
       " 'ep5_vs5',\n",
       " 'ep5_vt5',\n",
       " 'ep5_ar5',\n",
       " 'ep5_as5',\n",
       " 'ep5_at5',\n",
       " 'ep5_activeR5',\n",
       " 'ep5_activeS5',\n",
       " 'ep5_activeT5',\n",
       " 'ep5_activeTotal',\n",
       " 'ep5_reactiveR5',\n",
       " 'ep5_reactiveS5',\n",
       " 'ep5_reactiveT5',\n",
       " 'ep5_reactiveTotal',\n",
       " 'ep5_apparentR5',\n",
       " 'ep5_apparentS5',\n",
       " 'ep5_apparentT5',\n",
       " 'ep5_apparentTotal',\n",
       " 'ep5_powerFactorR5',\n",
       " 'ep5_powerFactorS5',\n",
       " 'ep5_powerFactorT5',\n",
       " 'ep5_pfTotal',\n",
       " 'ep5_frequency5',\n",
       " 'ep5_temperature5',\n",
       " 'adc_adc1',\n",
       " 'adc_adc2',\n",
       " 'adc_adc3',\n",
       " 'adc_adc4',\n",
       " 'adc_adc5',\n",
       " 'adc_adc6',\n",
       " 'adc_adc7',\n",
       " 'adc_adc8',\n",
       " 'dio_di1',\n",
       " 'dio_di2',\n",
       " 'dio_di3',\n",
       " 'dio_di4',\n",
       " 'dio_do1',\n",
       " 'dio_do2',\n",
       " 'dio_do3',\n",
       " 'dio_do4']"
      ]
     },
     "execution_count": 826,
     "metadata": {},
     "output_type": "execute_result"
    }
   ],
   "source": [
    "cols = list(df)[1:184]  # This convert the column in the form of list.\n",
    "cols"
   ]
  },
  {
   "cell_type": "code",
   "execution_count": 827,
   "id": "8ed9ea76",
   "metadata": {},
   "outputs": [
    {
     "data": {
      "text/plain": [
       "fanuc_cycle_min     int64\n",
       "fanuc_cycle_sec     int64\n",
       "fanuc_rpm1          int64\n",
       "fanuc_rpm1_unit     int64\n",
       "fanuc_troq1         int64\n",
       "fanuc_troq1_unit    int64\n",
       "fanuc_gearRatio1    int64\n",
       "fanuc_rpm2          int64\n",
       "fanuc_rpm2_unit     int64\n",
       "dtype: object"
      ]
     },
     "execution_count": 827,
     "metadata": {},
     "output_type": "execute_result"
    }
   ],
   "source": [
    "df.dtypes[1:10] # It checks the data types"
   ]
  },
  {
   "cell_type": "code",
   "execution_count": 828,
   "id": "68c2f16d",
   "metadata": {},
   "outputs": [
    {
     "data": {
      "text/html": [
       "<div>\n",
       "<style scoped>\n",
       "    .dataframe tbody tr th:only-of-type {\n",
       "        vertical-align: middle;\n",
       "    }\n",
       "\n",
       "    .dataframe tbody tr th {\n",
       "        vertical-align: top;\n",
       "    }\n",
       "\n",
       "    .dataframe thead th {\n",
       "        text-align: right;\n",
       "    }\n",
       "</style>\n",
       "<table border=\"1\" class=\"dataframe\">\n",
       "  <thead>\n",
       "    <tr style=\"text-align: right;\">\n",
       "      <th></th>\n",
       "      <th>fanuc_cycle_hour</th>\n",
       "      <th>fanuc_cycle_min</th>\n",
       "      <th>fanuc_cycle_sec</th>\n",
       "      <th>fanuc_rpm1</th>\n",
       "      <th>fanuc_rpm1_unit</th>\n",
       "      <th>fanuc_troq1</th>\n",
       "      <th>fanuc_troq1_unit</th>\n",
       "      <th>fanuc_gearRatio1</th>\n",
       "      <th>fanuc_rpm2</th>\n",
       "      <th>fanuc_rpm2_unit</th>\n",
       "      <th>...</th>\n",
       "      <th>adc_adc7</th>\n",
       "      <th>adc_adc8</th>\n",
       "      <th>dio_di1</th>\n",
       "      <th>dio_di2</th>\n",
       "      <th>dio_di3</th>\n",
       "      <th>dio_di4</th>\n",
       "      <th>dio_do1</th>\n",
       "      <th>dio_do2</th>\n",
       "      <th>dio_do3</th>\n",
       "      <th>dio_do4</th>\n",
       "    </tr>\n",
       "  </thead>\n",
       "  <tbody>\n",
       "    <tr>\n",
       "      <th>0</th>\n",
       "      <td>0</td>\n",
       "      <td>19</td>\n",
       "      <td>52</td>\n",
       "      <td>0</td>\n",
       "      <td>1</td>\n",
       "      <td>0</td>\n",
       "      <td>0</td>\n",
       "      <td>704</td>\n",
       "      <td>0</td>\n",
       "      <td>0</td>\n",
       "      <td>...</td>\n",
       "      <td>0</td>\n",
       "      <td>0</td>\n",
       "      <td>0</td>\n",
       "      <td>0</td>\n",
       "      <td>0</td>\n",
       "      <td>0</td>\n",
       "      <td>0</td>\n",
       "      <td>0</td>\n",
       "      <td>0</td>\n",
       "      <td>0</td>\n",
       "    </tr>\n",
       "    <tr>\n",
       "      <th>1</th>\n",
       "      <td>0</td>\n",
       "      <td>19</td>\n",
       "      <td>53</td>\n",
       "      <td>0</td>\n",
       "      <td>1</td>\n",
       "      <td>0</td>\n",
       "      <td>0</td>\n",
       "      <td>704</td>\n",
       "      <td>0</td>\n",
       "      <td>0</td>\n",
       "      <td>...</td>\n",
       "      <td>0</td>\n",
       "      <td>0</td>\n",
       "      <td>0</td>\n",
       "      <td>0</td>\n",
       "      <td>0</td>\n",
       "      <td>0</td>\n",
       "      <td>0</td>\n",
       "      <td>0</td>\n",
       "      <td>0</td>\n",
       "      <td>0</td>\n",
       "    </tr>\n",
       "    <tr>\n",
       "      <th>2</th>\n",
       "      <td>0</td>\n",
       "      <td>19</td>\n",
       "      <td>54</td>\n",
       "      <td>0</td>\n",
       "      <td>1</td>\n",
       "      <td>0</td>\n",
       "      <td>0</td>\n",
       "      <td>704</td>\n",
       "      <td>0</td>\n",
       "      <td>0</td>\n",
       "      <td>...</td>\n",
       "      <td>0</td>\n",
       "      <td>0</td>\n",
       "      <td>0</td>\n",
       "      <td>0</td>\n",
       "      <td>0</td>\n",
       "      <td>0</td>\n",
       "      <td>0</td>\n",
       "      <td>0</td>\n",
       "      <td>0</td>\n",
       "      <td>0</td>\n",
       "    </tr>\n",
       "    <tr>\n",
       "      <th>3</th>\n",
       "      <td>0</td>\n",
       "      <td>19</td>\n",
       "      <td>55</td>\n",
       "      <td>1907</td>\n",
       "      <td>1</td>\n",
       "      <td>8</td>\n",
       "      <td>0</td>\n",
       "      <td>672</td>\n",
       "      <td>0</td>\n",
       "      <td>0</td>\n",
       "      <td>...</td>\n",
       "      <td>0</td>\n",
       "      <td>0</td>\n",
       "      <td>0</td>\n",
       "      <td>0</td>\n",
       "      <td>0</td>\n",
       "      <td>0</td>\n",
       "      <td>0</td>\n",
       "      <td>0</td>\n",
       "      <td>0</td>\n",
       "      <td>0</td>\n",
       "    </tr>\n",
       "    <tr>\n",
       "      <th>4</th>\n",
       "      <td>0</td>\n",
       "      <td>19</td>\n",
       "      <td>56</td>\n",
       "      <td>1918</td>\n",
       "      <td>1</td>\n",
       "      <td>0</td>\n",
       "      <td>0</td>\n",
       "      <td>672</td>\n",
       "      <td>0</td>\n",
       "      <td>0</td>\n",
       "      <td>...</td>\n",
       "      <td>0</td>\n",
       "      <td>0</td>\n",
       "      <td>0</td>\n",
       "      <td>0</td>\n",
       "      <td>0</td>\n",
       "      <td>0</td>\n",
       "      <td>0</td>\n",
       "      <td>0</td>\n",
       "      <td>0</td>\n",
       "      <td>0</td>\n",
       "    </tr>\n",
       "    <tr>\n",
       "      <th>...</th>\n",
       "      <td>...</td>\n",
       "      <td>...</td>\n",
       "      <td>...</td>\n",
       "      <td>...</td>\n",
       "      <td>...</td>\n",
       "      <td>...</td>\n",
       "      <td>...</td>\n",
       "      <td>...</td>\n",
       "      <td>...</td>\n",
       "      <td>...</td>\n",
       "      <td>...</td>\n",
       "      <td>...</td>\n",
       "      <td>...</td>\n",
       "      <td>...</td>\n",
       "      <td>...</td>\n",
       "      <td>...</td>\n",
       "      <td>...</td>\n",
       "      <td>...</td>\n",
       "      <td>...</td>\n",
       "      <td>...</td>\n",
       "      <td>...</td>\n",
       "    </tr>\n",
       "    <tr>\n",
       "      <th>9994</th>\n",
       "      <td>0</td>\n",
       "      <td>56</td>\n",
       "      <td>51</td>\n",
       "      <td>0</td>\n",
       "      <td>1</td>\n",
       "      <td>0</td>\n",
       "      <td>0</td>\n",
       "      <td>648</td>\n",
       "      <td>0</td>\n",
       "      <td>0</td>\n",
       "      <td>...</td>\n",
       "      <td>0</td>\n",
       "      <td>0</td>\n",
       "      <td>0</td>\n",
       "      <td>0</td>\n",
       "      <td>0</td>\n",
       "      <td>0</td>\n",
       "      <td>0</td>\n",
       "      <td>0</td>\n",
       "      <td>0</td>\n",
       "      <td>0</td>\n",
       "    </tr>\n",
       "    <tr>\n",
       "      <th>9995</th>\n",
       "      <td>0</td>\n",
       "      <td>56</td>\n",
       "      <td>52</td>\n",
       "      <td>1</td>\n",
       "      <td>1</td>\n",
       "      <td>24</td>\n",
       "      <td>0</td>\n",
       "      <td>712</td>\n",
       "      <td>0</td>\n",
       "      <td>0</td>\n",
       "      <td>...</td>\n",
       "      <td>0</td>\n",
       "      <td>0</td>\n",
       "      <td>0</td>\n",
       "      <td>0</td>\n",
       "      <td>0</td>\n",
       "      <td>0</td>\n",
       "      <td>0</td>\n",
       "      <td>0</td>\n",
       "      <td>0</td>\n",
       "      <td>0</td>\n",
       "    </tr>\n",
       "    <tr>\n",
       "      <th>9996</th>\n",
       "      <td>0</td>\n",
       "      <td>56</td>\n",
       "      <td>53</td>\n",
       "      <td>139</td>\n",
       "      <td>1</td>\n",
       "      <td>15</td>\n",
       "      <td>0</td>\n",
       "      <td>712</td>\n",
       "      <td>0</td>\n",
       "      <td>0</td>\n",
       "      <td>...</td>\n",
       "      <td>0</td>\n",
       "      <td>0</td>\n",
       "      <td>0</td>\n",
       "      <td>0</td>\n",
       "      <td>0</td>\n",
       "      <td>0</td>\n",
       "      <td>0</td>\n",
       "      <td>0</td>\n",
       "      <td>0</td>\n",
       "      <td>0</td>\n",
       "    </tr>\n",
       "    <tr>\n",
       "      <th>9997</th>\n",
       "      <td>0</td>\n",
       "      <td>56</td>\n",
       "      <td>54</td>\n",
       "      <td>0</td>\n",
       "      <td>1</td>\n",
       "      <td>0</td>\n",
       "      <td>0</td>\n",
       "      <td>712</td>\n",
       "      <td>0</td>\n",
       "      <td>0</td>\n",
       "      <td>...</td>\n",
       "      <td>0</td>\n",
       "      <td>0</td>\n",
       "      <td>0</td>\n",
       "      <td>0</td>\n",
       "      <td>0</td>\n",
       "      <td>0</td>\n",
       "      <td>0</td>\n",
       "      <td>0</td>\n",
       "      <td>0</td>\n",
       "      <td>0</td>\n",
       "    </tr>\n",
       "    <tr>\n",
       "      <th>9998</th>\n",
       "      <td>0</td>\n",
       "      <td>56</td>\n",
       "      <td>55</td>\n",
       "      <td>0</td>\n",
       "      <td>1</td>\n",
       "      <td>0</td>\n",
       "      <td>0</td>\n",
       "      <td>712</td>\n",
       "      <td>0</td>\n",
       "      <td>0</td>\n",
       "      <td>...</td>\n",
       "      <td>0</td>\n",
       "      <td>0</td>\n",
       "      <td>0</td>\n",
       "      <td>0</td>\n",
       "      <td>0</td>\n",
       "      <td>0</td>\n",
       "      <td>0</td>\n",
       "      <td>0</td>\n",
       "      <td>0</td>\n",
       "      <td>0</td>\n",
       "    </tr>\n",
       "  </tbody>\n",
       "</table>\n",
       "<p>9999 rows × 172 columns</p>\n",
       "</div>"
      ],
      "text/plain": [
       "      fanuc_cycle_hour  fanuc_cycle_min  fanuc_cycle_sec  fanuc_rpm1  \\\n",
       "0                    0               19               52           0   \n",
       "1                    0               19               53           0   \n",
       "2                    0               19               54           0   \n",
       "3                    0               19               55        1907   \n",
       "4                    0               19               56        1918   \n",
       "...                ...              ...              ...         ...   \n",
       "9994                 0               56               51           0   \n",
       "9995                 0               56               52           1   \n",
       "9996                 0               56               53         139   \n",
       "9997                 0               56               54           0   \n",
       "9998                 0               56               55           0   \n",
       "\n",
       "      fanuc_rpm1_unit  fanuc_troq1  fanuc_troq1_unit  fanuc_gearRatio1  \\\n",
       "0                   1            0                 0               704   \n",
       "1                   1            0                 0               704   \n",
       "2                   1            0                 0               704   \n",
       "3                   1            8                 0               672   \n",
       "4                   1            0                 0               672   \n",
       "...               ...          ...               ...               ...   \n",
       "9994                1            0                 0               648   \n",
       "9995                1           24                 0               712   \n",
       "9996                1           15                 0               712   \n",
       "9997                1            0                 0               712   \n",
       "9998                1            0                 0               712   \n",
       "\n",
       "      fanuc_rpm2  fanuc_rpm2_unit  ...  adc_adc7  adc_adc8  dio_di1  dio_di2  \\\n",
       "0              0                0  ...         0         0        0        0   \n",
       "1              0                0  ...         0         0        0        0   \n",
       "2              0                0  ...         0         0        0        0   \n",
       "3              0                0  ...         0         0        0        0   \n",
       "4              0                0  ...         0         0        0        0   \n",
       "...          ...              ...  ...       ...       ...      ...      ...   \n",
       "9994           0                0  ...         0         0        0        0   \n",
       "9995           0                0  ...         0         0        0        0   \n",
       "9996           0                0  ...         0         0        0        0   \n",
       "9997           0                0  ...         0         0        0        0   \n",
       "9998           0                0  ...         0         0        0        0   \n",
       "\n",
       "      dio_di3  dio_di4  dio_do1  dio_do2  dio_do3  dio_do4  \n",
       "0           0        0        0        0        0        0  \n",
       "1           0        0        0        0        0        0  \n",
       "2           0        0        0        0        0        0  \n",
       "3           0        0        0        0        0        0  \n",
       "4           0        0        0        0        0        0  \n",
       "...       ...      ...      ...      ...      ...      ...  \n",
       "9994        0        0        0        0        0        0  \n",
       "9995        0        0        0        0        0        0  \n",
       "9996        0        0        0        0        0        0  \n",
       "9997        0        0        0        0        0        0  \n",
       "9998        0        0        0        0        0        0  \n",
       "\n",
       "[9999 rows x 172 columns]"
      ]
     },
     "execution_count": 828,
     "metadata": {},
     "output_type": "execute_result"
    }
   ],
   "source": [
    "df"
   ]
  },
  {
   "cell_type": "code",
   "execution_count": 829,
   "id": "3466cac5",
   "metadata": {},
   "outputs": [
    {
     "data": {
      "text/plain": [
       "fanuc_cycle_min     0\n",
       "fanuc_cycle_sec     0\n",
       "fanuc_rpm1          0\n",
       "fanuc_rpm1_unit     0\n",
       "fanuc_troq1         0\n",
       "fanuc_troq1_unit    0\n",
       "fanuc_gearRatio1    0\n",
       "fanuc_rpm2          0\n",
       "fanuc_rpm2_unit     0\n",
       "dtype: int64"
      ]
     },
     "execution_count": 829,
     "metadata": {},
     "output_type": "execute_result"
    }
   ],
   "source": [
    "null_values = df.isnull().sum() #identifying missing values and  # This function gives the information about Null values against each features\n",
    "null_values[1:10]"
   ]
  },
  {
   "cell_type": "code",
   "execution_count": 830,
   "id": "0812d587",
   "metadata": {},
   "outputs": [],
   "source": [
    "# df = pd.DataFrame(df)\n",
    "# df.fillna(df.median())"
   ]
  },
  {
   "cell_type": "markdown",
   "id": "17ef9d37",
   "metadata": {},
   "source": [
    "# Convert categorical variable into integers"
   ]
  },
  {
   "cell_type": "code",
   "execution_count": 831,
   "id": "7af0d43b",
   "metadata": {},
   "outputs": [],
   "source": [
    "from sklearn.preprocessing import LabelEncoder\n",
    "\n",
    "def labelencoder(df):                                     #This function converts the catorigcal and string data into numerical values to \n",
    "    for c in df.columns:                                  #interperate easily.\n",
    "        if df[c].dtype=='object': \n",
    "            df[c] = df[c].fillna('N')\n",
    "            lbl = LabelEncoder()\n",
    "            lbl.fit(list(df[c].values))\n",
    "            df[c] = lbl.transform(df[c].values)\n",
    "    return df"
   ]
  },
  {
   "cell_type": "code",
   "execution_count": 832,
   "id": "efb74433",
   "metadata": {},
   "outputs": [
    {
     "data": {
      "text/html": [
       "<div>\n",
       "<style scoped>\n",
       "    .dataframe tbody tr th:only-of-type {\n",
       "        vertical-align: middle;\n",
       "    }\n",
       "\n",
       "    .dataframe tbody tr th {\n",
       "        vertical-align: top;\n",
       "    }\n",
       "\n",
       "    .dataframe thead th {\n",
       "        text-align: right;\n",
       "    }\n",
       "</style>\n",
       "<table border=\"1\" class=\"dataframe\">\n",
       "  <thead>\n",
       "    <tr style=\"text-align: right;\">\n",
       "      <th></th>\n",
       "      <th>fanuc_cycle_hour</th>\n",
       "      <th>fanuc_cycle_min</th>\n",
       "      <th>fanuc_cycle_sec</th>\n",
       "      <th>fanuc_rpm1</th>\n",
       "      <th>fanuc_rpm1_unit</th>\n",
       "      <th>fanuc_troq1</th>\n",
       "      <th>fanuc_troq1_unit</th>\n",
       "      <th>fanuc_gearRatio1</th>\n",
       "      <th>fanuc_rpm2</th>\n",
       "      <th>fanuc_rpm2_unit</th>\n",
       "      <th>...</th>\n",
       "      <th>adc_adc7</th>\n",
       "      <th>adc_adc8</th>\n",
       "      <th>dio_di1</th>\n",
       "      <th>dio_di2</th>\n",
       "      <th>dio_di3</th>\n",
       "      <th>dio_di4</th>\n",
       "      <th>dio_do1</th>\n",
       "      <th>dio_do2</th>\n",
       "      <th>dio_do3</th>\n",
       "      <th>dio_do4</th>\n",
       "    </tr>\n",
       "  </thead>\n",
       "  <tbody>\n",
       "    <tr>\n",
       "      <th>0</th>\n",
       "      <td>0</td>\n",
       "      <td>19</td>\n",
       "      <td>52</td>\n",
       "      <td>0</td>\n",
       "      <td>1</td>\n",
       "      <td>0</td>\n",
       "      <td>0</td>\n",
       "      <td>704</td>\n",
       "      <td>0</td>\n",
       "      <td>0</td>\n",
       "      <td>...</td>\n",
       "      <td>0</td>\n",
       "      <td>0</td>\n",
       "      <td>0</td>\n",
       "      <td>0</td>\n",
       "      <td>0</td>\n",
       "      <td>0</td>\n",
       "      <td>0</td>\n",
       "      <td>0</td>\n",
       "      <td>0</td>\n",
       "      <td>0</td>\n",
       "    </tr>\n",
       "    <tr>\n",
       "      <th>1</th>\n",
       "      <td>0</td>\n",
       "      <td>19</td>\n",
       "      <td>53</td>\n",
       "      <td>0</td>\n",
       "      <td>1</td>\n",
       "      <td>0</td>\n",
       "      <td>0</td>\n",
       "      <td>704</td>\n",
       "      <td>0</td>\n",
       "      <td>0</td>\n",
       "      <td>...</td>\n",
       "      <td>0</td>\n",
       "      <td>0</td>\n",
       "      <td>0</td>\n",
       "      <td>0</td>\n",
       "      <td>0</td>\n",
       "      <td>0</td>\n",
       "      <td>0</td>\n",
       "      <td>0</td>\n",
       "      <td>0</td>\n",
       "      <td>0</td>\n",
       "    </tr>\n",
       "    <tr>\n",
       "      <th>2</th>\n",
       "      <td>0</td>\n",
       "      <td>19</td>\n",
       "      <td>54</td>\n",
       "      <td>0</td>\n",
       "      <td>1</td>\n",
       "      <td>0</td>\n",
       "      <td>0</td>\n",
       "      <td>704</td>\n",
       "      <td>0</td>\n",
       "      <td>0</td>\n",
       "      <td>...</td>\n",
       "      <td>0</td>\n",
       "      <td>0</td>\n",
       "      <td>0</td>\n",
       "      <td>0</td>\n",
       "      <td>0</td>\n",
       "      <td>0</td>\n",
       "      <td>0</td>\n",
       "      <td>0</td>\n",
       "      <td>0</td>\n",
       "      <td>0</td>\n",
       "    </tr>\n",
       "    <tr>\n",
       "      <th>3</th>\n",
       "      <td>0</td>\n",
       "      <td>19</td>\n",
       "      <td>55</td>\n",
       "      <td>1907</td>\n",
       "      <td>1</td>\n",
       "      <td>8</td>\n",
       "      <td>0</td>\n",
       "      <td>672</td>\n",
       "      <td>0</td>\n",
       "      <td>0</td>\n",
       "      <td>...</td>\n",
       "      <td>0</td>\n",
       "      <td>0</td>\n",
       "      <td>0</td>\n",
       "      <td>0</td>\n",
       "      <td>0</td>\n",
       "      <td>0</td>\n",
       "      <td>0</td>\n",
       "      <td>0</td>\n",
       "      <td>0</td>\n",
       "      <td>0</td>\n",
       "    </tr>\n",
       "    <tr>\n",
       "      <th>4</th>\n",
       "      <td>0</td>\n",
       "      <td>19</td>\n",
       "      <td>56</td>\n",
       "      <td>1918</td>\n",
       "      <td>1</td>\n",
       "      <td>0</td>\n",
       "      <td>0</td>\n",
       "      <td>672</td>\n",
       "      <td>0</td>\n",
       "      <td>0</td>\n",
       "      <td>...</td>\n",
       "      <td>0</td>\n",
       "      <td>0</td>\n",
       "      <td>0</td>\n",
       "      <td>0</td>\n",
       "      <td>0</td>\n",
       "      <td>0</td>\n",
       "      <td>0</td>\n",
       "      <td>0</td>\n",
       "      <td>0</td>\n",
       "      <td>0</td>\n",
       "    </tr>\n",
       "    <tr>\n",
       "      <th>...</th>\n",
       "      <td>...</td>\n",
       "      <td>...</td>\n",
       "      <td>...</td>\n",
       "      <td>...</td>\n",
       "      <td>...</td>\n",
       "      <td>...</td>\n",
       "      <td>...</td>\n",
       "      <td>...</td>\n",
       "      <td>...</td>\n",
       "      <td>...</td>\n",
       "      <td>...</td>\n",
       "      <td>...</td>\n",
       "      <td>...</td>\n",
       "      <td>...</td>\n",
       "      <td>...</td>\n",
       "      <td>...</td>\n",
       "      <td>...</td>\n",
       "      <td>...</td>\n",
       "      <td>...</td>\n",
       "      <td>...</td>\n",
       "      <td>...</td>\n",
       "    </tr>\n",
       "    <tr>\n",
       "      <th>9994</th>\n",
       "      <td>0</td>\n",
       "      <td>56</td>\n",
       "      <td>51</td>\n",
       "      <td>0</td>\n",
       "      <td>1</td>\n",
       "      <td>0</td>\n",
       "      <td>0</td>\n",
       "      <td>648</td>\n",
       "      <td>0</td>\n",
       "      <td>0</td>\n",
       "      <td>...</td>\n",
       "      <td>0</td>\n",
       "      <td>0</td>\n",
       "      <td>0</td>\n",
       "      <td>0</td>\n",
       "      <td>0</td>\n",
       "      <td>0</td>\n",
       "      <td>0</td>\n",
       "      <td>0</td>\n",
       "      <td>0</td>\n",
       "      <td>0</td>\n",
       "    </tr>\n",
       "    <tr>\n",
       "      <th>9995</th>\n",
       "      <td>0</td>\n",
       "      <td>56</td>\n",
       "      <td>52</td>\n",
       "      <td>1</td>\n",
       "      <td>1</td>\n",
       "      <td>24</td>\n",
       "      <td>0</td>\n",
       "      <td>712</td>\n",
       "      <td>0</td>\n",
       "      <td>0</td>\n",
       "      <td>...</td>\n",
       "      <td>0</td>\n",
       "      <td>0</td>\n",
       "      <td>0</td>\n",
       "      <td>0</td>\n",
       "      <td>0</td>\n",
       "      <td>0</td>\n",
       "      <td>0</td>\n",
       "      <td>0</td>\n",
       "      <td>0</td>\n",
       "      <td>0</td>\n",
       "    </tr>\n",
       "    <tr>\n",
       "      <th>9996</th>\n",
       "      <td>0</td>\n",
       "      <td>56</td>\n",
       "      <td>53</td>\n",
       "      <td>139</td>\n",
       "      <td>1</td>\n",
       "      <td>15</td>\n",
       "      <td>0</td>\n",
       "      <td>712</td>\n",
       "      <td>0</td>\n",
       "      <td>0</td>\n",
       "      <td>...</td>\n",
       "      <td>0</td>\n",
       "      <td>0</td>\n",
       "      <td>0</td>\n",
       "      <td>0</td>\n",
       "      <td>0</td>\n",
       "      <td>0</td>\n",
       "      <td>0</td>\n",
       "      <td>0</td>\n",
       "      <td>0</td>\n",
       "      <td>0</td>\n",
       "    </tr>\n",
       "    <tr>\n",
       "      <th>9997</th>\n",
       "      <td>0</td>\n",
       "      <td>56</td>\n",
       "      <td>54</td>\n",
       "      <td>0</td>\n",
       "      <td>1</td>\n",
       "      <td>0</td>\n",
       "      <td>0</td>\n",
       "      <td>712</td>\n",
       "      <td>0</td>\n",
       "      <td>0</td>\n",
       "      <td>...</td>\n",
       "      <td>0</td>\n",
       "      <td>0</td>\n",
       "      <td>0</td>\n",
       "      <td>0</td>\n",
       "      <td>0</td>\n",
       "      <td>0</td>\n",
       "      <td>0</td>\n",
       "      <td>0</td>\n",
       "      <td>0</td>\n",
       "      <td>0</td>\n",
       "    </tr>\n",
       "    <tr>\n",
       "      <th>9998</th>\n",
       "      <td>0</td>\n",
       "      <td>56</td>\n",
       "      <td>55</td>\n",
       "      <td>0</td>\n",
       "      <td>1</td>\n",
       "      <td>0</td>\n",
       "      <td>0</td>\n",
       "      <td>712</td>\n",
       "      <td>0</td>\n",
       "      <td>0</td>\n",
       "      <td>...</td>\n",
       "      <td>0</td>\n",
       "      <td>0</td>\n",
       "      <td>0</td>\n",
       "      <td>0</td>\n",
       "      <td>0</td>\n",
       "      <td>0</td>\n",
       "      <td>0</td>\n",
       "      <td>0</td>\n",
       "      <td>0</td>\n",
       "      <td>0</td>\n",
       "    </tr>\n",
       "  </tbody>\n",
       "</table>\n",
       "<p>9999 rows × 172 columns</p>\n",
       "</div>"
      ],
      "text/plain": [
       "      fanuc_cycle_hour  fanuc_cycle_min  fanuc_cycle_sec  fanuc_rpm1  \\\n",
       "0                    0               19               52           0   \n",
       "1                    0               19               53           0   \n",
       "2                    0               19               54           0   \n",
       "3                    0               19               55        1907   \n",
       "4                    0               19               56        1918   \n",
       "...                ...              ...              ...         ...   \n",
       "9994                 0               56               51           0   \n",
       "9995                 0               56               52           1   \n",
       "9996                 0               56               53         139   \n",
       "9997                 0               56               54           0   \n",
       "9998                 0               56               55           0   \n",
       "\n",
       "      fanuc_rpm1_unit  fanuc_troq1  fanuc_troq1_unit  fanuc_gearRatio1  \\\n",
       "0                   1            0                 0               704   \n",
       "1                   1            0                 0               704   \n",
       "2                   1            0                 0               704   \n",
       "3                   1            8                 0               672   \n",
       "4                   1            0                 0               672   \n",
       "...               ...          ...               ...               ...   \n",
       "9994                1            0                 0               648   \n",
       "9995                1           24                 0               712   \n",
       "9996                1           15                 0               712   \n",
       "9997                1            0                 0               712   \n",
       "9998                1            0                 0               712   \n",
       "\n",
       "      fanuc_rpm2  fanuc_rpm2_unit  ...  adc_adc7  adc_adc8  dio_di1  dio_di2  \\\n",
       "0              0                0  ...         0         0        0        0   \n",
       "1              0                0  ...         0         0        0        0   \n",
       "2              0                0  ...         0         0        0        0   \n",
       "3              0                0  ...         0         0        0        0   \n",
       "4              0                0  ...         0         0        0        0   \n",
       "...          ...              ...  ...       ...       ...      ...      ...   \n",
       "9994           0                0  ...         0         0        0        0   \n",
       "9995           0                0  ...         0         0        0        0   \n",
       "9996           0                0  ...         0         0        0        0   \n",
       "9997           0                0  ...         0         0        0        0   \n",
       "9998           0                0  ...         0         0        0        0   \n",
       "\n",
       "      dio_di3  dio_di4  dio_do1  dio_do2  dio_do3  dio_do4  \n",
       "0           0        0        0        0        0        0  \n",
       "1           0        0        0        0        0        0  \n",
       "2           0        0        0        0        0        0  \n",
       "3           0        0        0        0        0        0  \n",
       "4           0        0        0        0        0        0  \n",
       "...       ...      ...      ...      ...      ...      ...  \n",
       "9994        0        0        0        0        0        0  \n",
       "9995        0        0        0        0        0        0  \n",
       "9996        0        0        0        0        0        0  \n",
       "9997        0        0        0        0        0        0  \n",
       "9998        0        0        0        0        0        0  \n",
       "\n",
       "[9999 rows x 172 columns]"
      ]
     },
     "execution_count": 832,
     "metadata": {},
     "output_type": "execute_result"
    }
   ],
   "source": [
    "df=labelencoder(df) #Here just calling the function of labelencoder and view data after encoding \n",
    "df      "
   ]
  },
  {
   "cell_type": "code",
   "execution_count": 833,
   "id": "e5b221f9",
   "metadata": {},
   "outputs": [
    {
     "name": "stdout",
     "output_type": "stream",
     "text": [
      "<class 'pandas.core.frame.DataFrame'>\n",
      "RangeIndex: 9999 entries, 0 to 9998\n",
      "Data columns (total 172 columns):\n",
      " #    Column             Dtype  \n",
      "---   ------             -----  \n",
      " 0    fanuc_cycle_hour   int64  \n",
      " 1    fanuc_cycle_min    int64  \n",
      " 2    fanuc_cycle_sec    int64  \n",
      " 3    fanuc_rpm1         int64  \n",
      " 4    fanuc_rpm1_unit    int64  \n",
      " 5    fanuc_troq1        int64  \n",
      " 6    fanuc_troq1_unit   int64  \n",
      " 7    fanuc_gearRatio1   int64  \n",
      " 8    fanuc_rpm2         int64  \n",
      " 9    fanuc_rpm2_unit    int64  \n",
      " 10   fanuc_troq2        int64  \n",
      " 11   fanuc_troq2_unit   int64  \n",
      " 12   fanuc_gearRatio2   int64  \n",
      " 13   fanuc_rpm3         int64  \n",
      " 14   fanuc_rpm3_unit    int64  \n",
      " 15   fanuc_troq3        int64  \n",
      " 16   fanuc_troq3_unit   int64  \n",
      " 17   fanuc_gearRatio3   int64  \n",
      " 18   fanuc_rpm4         int64  \n",
      " 19   fanuc_rpm4_unit    int64  \n",
      " 20   fanuc_troq4        int64  \n",
      " 21   fanuc_troq4_unit   int64  \n",
      " 22   fanuc_gearRatio4   int64  \n",
      " 23   fanuc_toolNum      int64  \n",
      " 24   fanuc_absoluteX    float64\n",
      " 25   fanuc_absoluteY    float64\n",
      " 26   fanuc_absoluteZ    float64\n",
      " 27   fanuc_relativeX    float64\n",
      " 28   fanuc_relativeY    float64\n",
      " 29   fanuc_relativeZ    float64\n",
      " 30   fanuc_machineX     float64\n",
      " 31   fanuc_machineY     float64\n",
      " 32   fanuc_machineZ     float64\n",
      " 33   fanuc_distanceX    float64\n",
      " 34   fanuc_distanceY    float64\n",
      " 35   fanuc_distanceZ    float64\n",
      " 36   ep1_vr1            int64  \n",
      " 37   ep1_vs1            int64  \n",
      " 38   ep1_vt1            int64  \n",
      " 39   ep1_ar1            int64  \n",
      " 40   ep1_as1            int64  \n",
      " 41   ep1_at1            int64  \n",
      " 42   ep1_activeR1       int64  \n",
      " 43   ep1_activeS1       int64  \n",
      " 44   ep1_activeT1       int64  \n",
      " 45   ep1_activeTotal    int64  \n",
      " 46   ep1_reactiveR1     int64  \n",
      " 47   ep1_reactiveS1     int64  \n",
      " 48   ep1_reactiveT1     int64  \n",
      " 49   ep1_reactiveTotal  int64  \n",
      " 50   ep1_apparentR1     int64  \n",
      " 51   ep1_apparentS1     int64  \n",
      " 52   ep1_apparentT1     int64  \n",
      " 53   ep1_apparentTotal  int64  \n",
      " 54   ep1_powerFactorR1  int64  \n",
      " 55   ep1_powerFactorS1  int64  \n",
      " 56   ep1_powerFactorT1  int64  \n",
      " 57   ep1_pfTotal        int64  \n",
      " 58   ep1_frequency1     int64  \n",
      " 59   ep1_temperature1   int64  \n",
      " 60   ep2_vr2            int64  \n",
      " 61   ep2_vs2            int64  \n",
      " 62   ep2_vt2            int64  \n",
      " 63   ep2_ar2            int64  \n",
      " 64   ep2_as2            int64  \n",
      " 65   ep2_at2            int64  \n",
      " 66   ep2_activeR2       int64  \n",
      " 67   ep2_activeS2       int64  \n",
      " 68   ep2_activeT2       int64  \n",
      " 69   ep2_activeTotal    int64  \n",
      " 70   ep2_reactiveR2     int64  \n",
      " 71   ep2_reactiveS2     int64  \n",
      " 72   ep2_reactiveT2     int64  \n",
      " 73   ep2_reactiveTotal  int64  \n",
      " 74   ep2_apparentR2     int64  \n",
      " 75   ep2_apparentS2     int64  \n",
      " 76   ep2_apparentT2     int64  \n",
      " 77   ep2_apparentTotal  int64  \n",
      " 78   ep2_powerFactorR2  int64  \n",
      " 79   ep2_powerFactorS2  int64  \n",
      " 80   ep2_powerFactorT2  int64  \n",
      " 81   ep2_pfTotal        int64  \n",
      " 82   ep2_frequency2     int64  \n",
      " 83   ep2_temperature2   int64  \n",
      " 84   ep3_vr3            int64  \n",
      " 85   ep3_vs3            int64  \n",
      " 86   ep3_vt3            int64  \n",
      " 87   ep3_ar3            int64  \n",
      " 88   ep3_as3            int64  \n",
      " 89   ep3_at3            int64  \n",
      " 90   ep3_activeR3       int64  \n",
      " 91   ep3_activeS3       int64  \n",
      " 92   ep3_activeT3       int64  \n",
      " 93   ep3_activeTotal    int64  \n",
      " 94   ep3_reactiveR3     int64  \n",
      " 95   ep3_reactiveS3     int64  \n",
      " 96   ep3_reactiveT3     int64  \n",
      " 97   ep3_reactiveTotal  int64  \n",
      " 98   ep3_apparentR3     int64  \n",
      " 99   ep3_apparentS3     int64  \n",
      " 100  ep3_apparentT3     int64  \n",
      " 101  ep3_apparentTotal  int64  \n",
      " 102  ep3_powerFactorR3  int64  \n",
      " 103  ep3_powerFactorS3  int64  \n",
      " 104  ep3_powerFactorT3  int64  \n",
      " 105  ep3_pfTotal        int64  \n",
      " 106  ep3_frequency3     int64  \n",
      " 107  ep3_temperature3   int64  \n",
      " 108  ep4_vr4            int64  \n",
      " 109  ep4_vs4            int64  \n",
      " 110  ep4_vt4            int64  \n",
      " 111  ep4_ar4            int64  \n",
      " 112  ep4_as4            int64  \n",
      " 113  ep4_at4            int64  \n",
      " 114  ep4_activeR4       int64  \n",
      " 115  ep4_activeS4       int64  \n",
      " 116  ep4_activeT4       int64  \n",
      " 117  ep4_activeTotal    int64  \n",
      " 118  ep4_reactiveR4     int64  \n",
      " 119  ep4_reactiveS4     int64  \n",
      " 120  ep4_reactiveT4     int64  \n",
      " 121  ep4_reactiveTotal  int64  \n",
      " 122  ep4_apparentR4     int64  \n",
      " 123  ep4_apparentS4     int64  \n",
      " 124  ep4_apparentT4     int64  \n",
      " 125  ep4_apparentTotal  int64  \n",
      " 126  ep4_powerFactorR4  int64  \n",
      " 127  ep4_powerFactorS4  int64  \n",
      " 128  ep4_powerFactorT4  int64  \n",
      " 129  ep4_pfTotal        int64  \n",
      " 130  ep4_frequency4     int64  \n",
      " 131  ep4_temperature4   int64  \n",
      " 132  ep5_vr5            int64  \n",
      " 133  ep5_vs5            int64  \n",
      " 134  ep5_vt5            int64  \n",
      " 135  ep5_ar5            int64  \n",
      " 136  ep5_as5            int64  \n",
      " 137  ep5_at5            int64  \n",
      " 138  ep5_activeR5       int64  \n",
      " 139  ep5_activeS5       int64  \n",
      " 140  ep5_activeT5       int64  \n",
      " 141  ep5_activeTotal    int64  \n",
      " 142  ep5_reactiveR5     int64  \n",
      " 143  ep5_reactiveS5     int64  \n",
      " 144  ep5_reactiveT5     int64  \n",
      " 145  ep5_reactiveTotal  int64  \n",
      " 146  ep5_apparentR5     int64  \n",
      " 147  ep5_apparentS5     int64  \n",
      " 148  ep5_apparentT5     int64  \n",
      " 149  ep5_apparentTotal  int64  \n",
      " 150  ep5_powerFactorR5  int64  \n",
      " 151  ep5_powerFactorS5  int64  \n",
      " 152  ep5_powerFactorT5  int64  \n",
      " 153  ep5_pfTotal        int64  \n",
      " 154  ep5_frequency5     int64  \n",
      " 155  ep5_temperature5   int64  \n",
      " 156  adc_adc1           int64  \n",
      " 157  adc_adc2           int64  \n",
      " 158  adc_adc3           int64  \n",
      " 159  adc_adc4           int64  \n",
      " 160  adc_adc5           int64  \n",
      " 161  adc_adc6           int64  \n",
      " 162  adc_adc7           int64  \n",
      " 163  adc_adc8           int64  \n",
      " 164  dio_di1            int64  \n",
      " 165  dio_di2            int64  \n",
      " 166  dio_di3            int64  \n",
      " 167  dio_di4            int64  \n",
      " 168  dio_do1            int64  \n",
      " 169  dio_do2            int64  \n",
      " 170  dio_do3            int64  \n",
      " 171  dio_do4            int64  \n",
      "dtypes: float64(12), int64(160)\n",
      "memory usage: 13.1 MB\n"
     ]
    }
   ],
   "source": [
    "df.info(verbose=True) #Prints information of all columns(If verbose =False -> Prints a summary of columns count and its dtypes but not per column information)"
   ]
  },
  {
   "cell_type": "code",
   "execution_count": 834,
   "id": "859fedda",
   "metadata": {},
   "outputs": [
    {
     "data": {
      "text/html": [
       "<div>\n",
       "<style scoped>\n",
       "    .dataframe tbody tr th:only-of-type {\n",
       "        vertical-align: middle;\n",
       "    }\n",
       "\n",
       "    .dataframe tbody tr th {\n",
       "        vertical-align: top;\n",
       "    }\n",
       "\n",
       "    .dataframe thead th {\n",
       "        text-align: right;\n",
       "    }\n",
       "</style>\n",
       "<table border=\"1\" class=\"dataframe\">\n",
       "  <thead>\n",
       "    <tr style=\"text-align: right;\">\n",
       "      <th></th>\n",
       "      <th>fanuc_cycle_hour</th>\n",
       "      <th>fanuc_cycle_min</th>\n",
       "      <th>fanuc_cycle_sec</th>\n",
       "      <th>fanuc_rpm1</th>\n",
       "      <th>fanuc_rpm1_unit</th>\n",
       "      <th>fanuc_troq1</th>\n",
       "      <th>fanuc_troq1_unit</th>\n",
       "      <th>fanuc_gearRatio1</th>\n",
       "      <th>fanuc_rpm2</th>\n",
       "      <th>fanuc_rpm2_unit</th>\n",
       "      <th>...</th>\n",
       "      <th>adc_adc7</th>\n",
       "      <th>adc_adc8</th>\n",
       "      <th>dio_di1</th>\n",
       "      <th>dio_di2</th>\n",
       "      <th>dio_di3</th>\n",
       "      <th>dio_di4</th>\n",
       "      <th>dio_do1</th>\n",
       "      <th>dio_do2</th>\n",
       "      <th>dio_do3</th>\n",
       "      <th>dio_do4</th>\n",
       "    </tr>\n",
       "  </thead>\n",
       "  <tbody>\n",
       "    <tr>\n",
       "      <th>0</th>\n",
       "      <td>0</td>\n",
       "      <td>19</td>\n",
       "      <td>52</td>\n",
       "      <td>0</td>\n",
       "      <td>1</td>\n",
       "      <td>0</td>\n",
       "      <td>0</td>\n",
       "      <td>704</td>\n",
       "      <td>0</td>\n",
       "      <td>0</td>\n",
       "      <td>...</td>\n",
       "      <td>0</td>\n",
       "      <td>0</td>\n",
       "      <td>0</td>\n",
       "      <td>0</td>\n",
       "      <td>0</td>\n",
       "      <td>0</td>\n",
       "      <td>0</td>\n",
       "      <td>0</td>\n",
       "      <td>0</td>\n",
       "      <td>0</td>\n",
       "    </tr>\n",
       "    <tr>\n",
       "      <th>1</th>\n",
       "      <td>0</td>\n",
       "      <td>19</td>\n",
       "      <td>53</td>\n",
       "      <td>0</td>\n",
       "      <td>1</td>\n",
       "      <td>0</td>\n",
       "      <td>0</td>\n",
       "      <td>704</td>\n",
       "      <td>0</td>\n",
       "      <td>0</td>\n",
       "      <td>...</td>\n",
       "      <td>0</td>\n",
       "      <td>0</td>\n",
       "      <td>0</td>\n",
       "      <td>0</td>\n",
       "      <td>0</td>\n",
       "      <td>0</td>\n",
       "      <td>0</td>\n",
       "      <td>0</td>\n",
       "      <td>0</td>\n",
       "      <td>0</td>\n",
       "    </tr>\n",
       "    <tr>\n",
       "      <th>2</th>\n",
       "      <td>0</td>\n",
       "      <td>19</td>\n",
       "      <td>54</td>\n",
       "      <td>0</td>\n",
       "      <td>1</td>\n",
       "      <td>0</td>\n",
       "      <td>0</td>\n",
       "      <td>704</td>\n",
       "      <td>0</td>\n",
       "      <td>0</td>\n",
       "      <td>...</td>\n",
       "      <td>0</td>\n",
       "      <td>0</td>\n",
       "      <td>0</td>\n",
       "      <td>0</td>\n",
       "      <td>0</td>\n",
       "      <td>0</td>\n",
       "      <td>0</td>\n",
       "      <td>0</td>\n",
       "      <td>0</td>\n",
       "      <td>0</td>\n",
       "    </tr>\n",
       "    <tr>\n",
       "      <th>3</th>\n",
       "      <td>0</td>\n",
       "      <td>19</td>\n",
       "      <td>55</td>\n",
       "      <td>1907</td>\n",
       "      <td>1</td>\n",
       "      <td>8</td>\n",
       "      <td>0</td>\n",
       "      <td>672</td>\n",
       "      <td>0</td>\n",
       "      <td>0</td>\n",
       "      <td>...</td>\n",
       "      <td>0</td>\n",
       "      <td>0</td>\n",
       "      <td>0</td>\n",
       "      <td>0</td>\n",
       "      <td>0</td>\n",
       "      <td>0</td>\n",
       "      <td>0</td>\n",
       "      <td>0</td>\n",
       "      <td>0</td>\n",
       "      <td>0</td>\n",
       "    </tr>\n",
       "    <tr>\n",
       "      <th>4</th>\n",
       "      <td>0</td>\n",
       "      <td>19</td>\n",
       "      <td>56</td>\n",
       "      <td>1918</td>\n",
       "      <td>1</td>\n",
       "      <td>0</td>\n",
       "      <td>0</td>\n",
       "      <td>672</td>\n",
       "      <td>0</td>\n",
       "      <td>0</td>\n",
       "      <td>...</td>\n",
       "      <td>0</td>\n",
       "      <td>0</td>\n",
       "      <td>0</td>\n",
       "      <td>0</td>\n",
       "      <td>0</td>\n",
       "      <td>0</td>\n",
       "      <td>0</td>\n",
       "      <td>0</td>\n",
       "      <td>0</td>\n",
       "      <td>0</td>\n",
       "    </tr>\n",
       "  </tbody>\n",
       "</table>\n",
       "<p>5 rows × 172 columns</p>\n",
       "</div>"
      ],
      "text/plain": [
       "   fanuc_cycle_hour  fanuc_cycle_min  fanuc_cycle_sec  fanuc_rpm1  \\\n",
       "0                 0               19               52           0   \n",
       "1                 0               19               53           0   \n",
       "2                 0               19               54           0   \n",
       "3                 0               19               55        1907   \n",
       "4                 0               19               56        1918   \n",
       "\n",
       "   fanuc_rpm1_unit  fanuc_troq1  fanuc_troq1_unit  fanuc_gearRatio1  \\\n",
       "0                1            0                 0               704   \n",
       "1                1            0                 0               704   \n",
       "2                1            0                 0               704   \n",
       "3                1            8                 0               672   \n",
       "4                1            0                 0               672   \n",
       "\n",
       "   fanuc_rpm2  fanuc_rpm2_unit  ...  adc_adc7  adc_adc8  dio_di1  dio_di2  \\\n",
       "0           0                0  ...         0         0        0        0   \n",
       "1           0                0  ...         0         0        0        0   \n",
       "2           0                0  ...         0         0        0        0   \n",
       "3           0                0  ...         0         0        0        0   \n",
       "4           0                0  ...         0         0        0        0   \n",
       "\n",
       "   dio_di3  dio_di4  dio_do1  dio_do2  dio_do3  dio_do4  \n",
       "0        0        0        0        0        0        0  \n",
       "1        0        0        0        0        0        0  \n",
       "2        0        0        0        0        0        0  \n",
       "3        0        0        0        0        0        0  \n",
       "4        0        0        0        0        0        0  \n",
       "\n",
       "[5 rows x 172 columns]"
      ]
     },
     "execution_count": 834,
     "metadata": {},
     "output_type": "execute_result"
    }
   ],
   "source": [
    "df.head()"
   ]
  },
  {
   "cell_type": "markdown",
   "id": "56337e4e",
   "metadata": {},
   "source": [
    "# The describe() method returns description of the data in the DataFrame.\n",
    "\n",
    "* If the DataFrame contains numerical data, the description contains these information for each column:\n",
    "\n",
    "* count - The number of not-empty values.\n",
    "* mean - The average (mean) value.\n",
    "* std - The standard deviation.\n",
    "* min - the minimum value.\n",
    "* 25% - The 25% percentile*.\n",
    "* 50% - The 50% percentile*.\n",
    "* 75% - The 75% percentile*.\n",
    "* max - the maximum value.\n",
    "\n",
    "* Percentile meaning: how many of the values are less than the given percentile"
   ]
  },
  {
   "cell_type": "code",
   "execution_count": 835,
   "id": "79acf2ac",
   "metadata": {},
   "outputs": [
    {
     "data": {
      "text/html": [
       "<div>\n",
       "<style scoped>\n",
       "    .dataframe tbody tr th:only-of-type {\n",
       "        vertical-align: middle;\n",
       "    }\n",
       "\n",
       "    .dataframe tbody tr th {\n",
       "        vertical-align: top;\n",
       "    }\n",
       "\n",
       "    .dataframe thead th {\n",
       "        text-align: right;\n",
       "    }\n",
       "</style>\n",
       "<table border=\"1\" class=\"dataframe\">\n",
       "  <thead>\n",
       "    <tr style=\"text-align: right;\">\n",
       "      <th></th>\n",
       "      <th>fanuc_cycle_hour</th>\n",
       "      <th>fanuc_cycle_min</th>\n",
       "      <th>fanuc_cycle_sec</th>\n",
       "      <th>fanuc_rpm1</th>\n",
       "      <th>fanuc_rpm1_unit</th>\n",
       "      <th>fanuc_troq1</th>\n",
       "      <th>fanuc_troq1_unit</th>\n",
       "      <th>fanuc_gearRatio1</th>\n",
       "      <th>fanuc_rpm2</th>\n",
       "      <th>fanuc_rpm2_unit</th>\n",
       "      <th>...</th>\n",
       "      <th>adc_adc7</th>\n",
       "      <th>adc_adc8</th>\n",
       "      <th>dio_di1</th>\n",
       "      <th>dio_di2</th>\n",
       "      <th>dio_di3</th>\n",
       "      <th>dio_di4</th>\n",
       "      <th>dio_do1</th>\n",
       "      <th>dio_do2</th>\n",
       "      <th>dio_do3</th>\n",
       "      <th>dio_do4</th>\n",
       "    </tr>\n",
       "  </thead>\n",
       "  <tbody>\n",
       "    <tr>\n",
       "      <th>count</th>\n",
       "      <td>9999.000000</td>\n",
       "      <td>9999.000000</td>\n",
       "      <td>9999.000000</td>\n",
       "      <td>9999.000000</td>\n",
       "      <td>9999.0</td>\n",
       "      <td>9999.000000</td>\n",
       "      <td>9999.0</td>\n",
       "      <td>9999.000000</td>\n",
       "      <td>9999.0</td>\n",
       "      <td>9999.0</td>\n",
       "      <td>...</td>\n",
       "      <td>9999.0</td>\n",
       "      <td>9999.0</td>\n",
       "      <td>9999.0</td>\n",
       "      <td>9999.0</td>\n",
       "      <td>9999.0</td>\n",
       "      <td>9999.0</td>\n",
       "      <td>9999.0</td>\n",
       "      <td>9999.0</td>\n",
       "      <td>9999.0</td>\n",
       "      <td>9999.0</td>\n",
       "    </tr>\n",
       "    <tr>\n",
       "      <th>mean</th>\n",
       "      <td>0.062506</td>\n",
       "      <td>29.655966</td>\n",
       "      <td>29.455546</td>\n",
       "      <td>2356.290829</td>\n",
       "      <td>1.0</td>\n",
       "      <td>5.731773</td>\n",
       "      <td>0.0</td>\n",
       "      <td>677.599760</td>\n",
       "      <td>0.0</td>\n",
       "      <td>0.0</td>\n",
       "      <td>...</td>\n",
       "      <td>0.0</td>\n",
       "      <td>0.0</td>\n",
       "      <td>0.0</td>\n",
       "      <td>0.0</td>\n",
       "      <td>0.0</td>\n",
       "      <td>0.0</td>\n",
       "      <td>0.0</td>\n",
       "      <td>0.0</td>\n",
       "      <td>0.0</td>\n",
       "      <td>0.0</td>\n",
       "    </tr>\n",
       "    <tr>\n",
       "      <th>std</th>\n",
       "      <td>0.242085</td>\n",
       "      <td>17.397195</td>\n",
       "      <td>17.353346</td>\n",
       "      <td>1761.657514</td>\n",
       "      <td>0.0</td>\n",
       "      <td>14.242873</td>\n",
       "      <td>0.0</td>\n",
       "      <td>14.068653</td>\n",
       "      <td>0.0</td>\n",
       "      <td>0.0</td>\n",
       "      <td>...</td>\n",
       "      <td>0.0</td>\n",
       "      <td>0.0</td>\n",
       "      <td>0.0</td>\n",
       "      <td>0.0</td>\n",
       "      <td>0.0</td>\n",
       "      <td>0.0</td>\n",
       "      <td>0.0</td>\n",
       "      <td>0.0</td>\n",
       "      <td>0.0</td>\n",
       "      <td>0.0</td>\n",
       "    </tr>\n",
       "    <tr>\n",
       "      <th>min</th>\n",
       "      <td>0.000000</td>\n",
       "      <td>0.000000</td>\n",
       "      <td>0.000000</td>\n",
       "      <td>0.000000</td>\n",
       "      <td>1.0</td>\n",
       "      <td>0.000000</td>\n",
       "      <td>0.0</td>\n",
       "      <td>640.000000</td>\n",
       "      <td>0.0</td>\n",
       "      <td>0.0</td>\n",
       "      <td>...</td>\n",
       "      <td>0.0</td>\n",
       "      <td>0.0</td>\n",
       "      <td>0.0</td>\n",
       "      <td>0.0</td>\n",
       "      <td>0.0</td>\n",
       "      <td>0.0</td>\n",
       "      <td>0.0</td>\n",
       "      <td>0.0</td>\n",
       "      <td>0.0</td>\n",
       "      <td>0.0</td>\n",
       "    </tr>\n",
       "    <tr>\n",
       "      <th>25%</th>\n",
       "      <td>0.000000</td>\n",
       "      <td>15.000000</td>\n",
       "      <td>14.000000</td>\n",
       "      <td>1150.000000</td>\n",
       "      <td>1.0</td>\n",
       "      <td>0.000000</td>\n",
       "      <td>0.0</td>\n",
       "      <td>672.000000</td>\n",
       "      <td>0.0</td>\n",
       "      <td>0.0</td>\n",
       "      <td>...</td>\n",
       "      <td>0.0</td>\n",
       "      <td>0.0</td>\n",
       "      <td>0.0</td>\n",
       "      <td>0.0</td>\n",
       "      <td>0.0</td>\n",
       "      <td>0.0</td>\n",
       "      <td>0.0</td>\n",
       "      <td>0.0</td>\n",
       "      <td>0.0</td>\n",
       "      <td>0.0</td>\n",
       "    </tr>\n",
       "    <tr>\n",
       "      <th>50%</th>\n",
       "      <td>0.000000</td>\n",
       "      <td>31.000000</td>\n",
       "      <td>29.000000</td>\n",
       "      <td>1995.000000</td>\n",
       "      <td>1.0</td>\n",
       "      <td>2.000000</td>\n",
       "      <td>0.0</td>\n",
       "      <td>672.000000</td>\n",
       "      <td>0.0</td>\n",
       "      <td>0.0</td>\n",
       "      <td>...</td>\n",
       "      <td>0.0</td>\n",
       "      <td>0.0</td>\n",
       "      <td>0.0</td>\n",
       "      <td>0.0</td>\n",
       "      <td>0.0</td>\n",
       "      <td>0.0</td>\n",
       "      <td>0.0</td>\n",
       "      <td>0.0</td>\n",
       "      <td>0.0</td>\n",
       "      <td>0.0</td>\n",
       "    </tr>\n",
       "    <tr>\n",
       "      <th>75%</th>\n",
       "      <td>0.000000</td>\n",
       "      <td>45.000000</td>\n",
       "      <td>45.000000</td>\n",
       "      <td>3836.000000</td>\n",
       "      <td>1.0</td>\n",
       "      <td>5.000000</td>\n",
       "      <td>0.0</td>\n",
       "      <td>680.000000</td>\n",
       "      <td>0.0</td>\n",
       "      <td>0.0</td>\n",
       "      <td>...</td>\n",
       "      <td>0.0</td>\n",
       "      <td>0.0</td>\n",
       "      <td>0.0</td>\n",
       "      <td>0.0</td>\n",
       "      <td>0.0</td>\n",
       "      <td>0.0</td>\n",
       "      <td>0.0</td>\n",
       "      <td>0.0</td>\n",
       "      <td>0.0</td>\n",
       "      <td>0.0</td>\n",
       "    </tr>\n",
       "    <tr>\n",
       "      <th>max</th>\n",
       "      <td>1.000000</td>\n",
       "      <td>59.000000</td>\n",
       "      <td>59.000000</td>\n",
       "      <td>5220.000000</td>\n",
       "      <td>1.0</td>\n",
       "      <td>147.000000</td>\n",
       "      <td>0.0</td>\n",
       "      <td>712.000000</td>\n",
       "      <td>0.0</td>\n",
       "      <td>0.0</td>\n",
       "      <td>...</td>\n",
       "      <td>0.0</td>\n",
       "      <td>0.0</td>\n",
       "      <td>0.0</td>\n",
       "      <td>0.0</td>\n",
       "      <td>0.0</td>\n",
       "      <td>0.0</td>\n",
       "      <td>0.0</td>\n",
       "      <td>0.0</td>\n",
       "      <td>0.0</td>\n",
       "      <td>0.0</td>\n",
       "    </tr>\n",
       "  </tbody>\n",
       "</table>\n",
       "<p>8 rows × 172 columns</p>\n",
       "</div>"
      ],
      "text/plain": [
       "       fanuc_cycle_hour  fanuc_cycle_min  fanuc_cycle_sec   fanuc_rpm1  \\\n",
       "count       9999.000000      9999.000000      9999.000000  9999.000000   \n",
       "mean           0.062506        29.655966        29.455546  2356.290829   \n",
       "std            0.242085        17.397195        17.353346  1761.657514   \n",
       "min            0.000000         0.000000         0.000000     0.000000   \n",
       "25%            0.000000        15.000000        14.000000  1150.000000   \n",
       "50%            0.000000        31.000000        29.000000  1995.000000   \n",
       "75%            0.000000        45.000000        45.000000  3836.000000   \n",
       "max            1.000000        59.000000        59.000000  5220.000000   \n",
       "\n",
       "       fanuc_rpm1_unit  fanuc_troq1  fanuc_troq1_unit  fanuc_gearRatio1  \\\n",
       "count           9999.0  9999.000000            9999.0       9999.000000   \n",
       "mean               1.0     5.731773               0.0        677.599760   \n",
       "std                0.0    14.242873               0.0         14.068653   \n",
       "min                1.0     0.000000               0.0        640.000000   \n",
       "25%                1.0     0.000000               0.0        672.000000   \n",
       "50%                1.0     2.000000               0.0        672.000000   \n",
       "75%                1.0     5.000000               0.0        680.000000   \n",
       "max                1.0   147.000000               0.0        712.000000   \n",
       "\n",
       "       fanuc_rpm2  fanuc_rpm2_unit  ...  adc_adc7  adc_adc8  dio_di1  dio_di2  \\\n",
       "count      9999.0           9999.0  ...    9999.0    9999.0   9999.0   9999.0   \n",
       "mean          0.0              0.0  ...       0.0       0.0      0.0      0.0   \n",
       "std           0.0              0.0  ...       0.0       0.0      0.0      0.0   \n",
       "min           0.0              0.0  ...       0.0       0.0      0.0      0.0   \n",
       "25%           0.0              0.0  ...       0.0       0.0      0.0      0.0   \n",
       "50%           0.0              0.0  ...       0.0       0.0      0.0      0.0   \n",
       "75%           0.0              0.0  ...       0.0       0.0      0.0      0.0   \n",
       "max           0.0              0.0  ...       0.0       0.0      0.0      0.0   \n",
       "\n",
       "       dio_di3  dio_di4  dio_do1  dio_do2  dio_do3  dio_do4  \n",
       "count   9999.0   9999.0   9999.0   9999.0   9999.0   9999.0  \n",
       "mean       0.0      0.0      0.0      0.0      0.0      0.0  \n",
       "std        0.0      0.0      0.0      0.0      0.0      0.0  \n",
       "min        0.0      0.0      0.0      0.0      0.0      0.0  \n",
       "25%        0.0      0.0      0.0      0.0      0.0      0.0  \n",
       "50%        0.0      0.0      0.0      0.0      0.0      0.0  \n",
       "75%        0.0      0.0      0.0      0.0      0.0      0.0  \n",
       "max        0.0      0.0      0.0      0.0      0.0      0.0  \n",
       "\n",
       "[8 rows x 172 columns]"
      ]
     },
     "execution_count": 835,
     "metadata": {},
     "output_type": "execute_result"
    }
   ],
   "source": [
    "df.describe()"
   ]
  },
  {
   "cell_type": "markdown",
   "id": "e8263d6a",
   "metadata": {},
   "source": [
    "# Feature Scaling"
   ]
  },
  {
   "cell_type": "code",
   "execution_count": 836,
   "id": "71c755e9",
   "metadata": {},
   "outputs": [],
   "source": [
    "X=df"
   ]
  },
  {
   "cell_type": "code",
   "execution_count": 837,
   "id": "a7dbb00b",
   "metadata": {},
   "outputs": [],
   "source": [
    "cols = X.columns"
   ]
  },
  {
   "cell_type": "code",
   "execution_count": 838,
   "id": "46e51f1f",
   "metadata": {},
   "outputs": [],
   "source": [
    "from sklearn.preprocessing import MinMaxScaler\n",
    "\n",
    "ms = MinMaxScaler()\n",
    "\n",
    "X = ms.fit_transform(X)"
   ]
  },
  {
   "cell_type": "code",
   "execution_count": 839,
   "id": "104d2413",
   "metadata": {},
   "outputs": [],
   "source": [
    "X = pd.DataFrame(X, columns=[cols])"
   ]
  },
  {
   "cell_type": "code",
   "execution_count": 840,
   "id": "a5037cce",
   "metadata": {},
   "outputs": [
    {
     "data": {
      "text/html": [
       "<div>\n",
       "<style scoped>\n",
       "    .dataframe tbody tr th:only-of-type {\n",
       "        vertical-align: middle;\n",
       "    }\n",
       "\n",
       "    .dataframe tbody tr th {\n",
       "        vertical-align: top;\n",
       "    }\n",
       "\n",
       "    .dataframe thead tr th {\n",
       "        text-align: left;\n",
       "    }\n",
       "</style>\n",
       "<table border=\"1\" class=\"dataframe\">\n",
       "  <thead>\n",
       "    <tr>\n",
       "      <th></th>\n",
       "      <th>fanuc_cycle_hour</th>\n",
       "      <th>fanuc_cycle_min</th>\n",
       "      <th>fanuc_cycle_sec</th>\n",
       "      <th>fanuc_rpm1</th>\n",
       "      <th>fanuc_rpm1_unit</th>\n",
       "      <th>fanuc_troq1</th>\n",
       "      <th>fanuc_troq1_unit</th>\n",
       "      <th>fanuc_gearRatio1</th>\n",
       "      <th>fanuc_rpm2</th>\n",
       "      <th>fanuc_rpm2_unit</th>\n",
       "      <th>...</th>\n",
       "      <th>adc_adc7</th>\n",
       "      <th>adc_adc8</th>\n",
       "      <th>dio_di1</th>\n",
       "      <th>dio_di2</th>\n",
       "      <th>dio_di3</th>\n",
       "      <th>dio_di4</th>\n",
       "      <th>dio_do1</th>\n",
       "      <th>dio_do2</th>\n",
       "      <th>dio_do3</th>\n",
       "      <th>dio_do4</th>\n",
       "    </tr>\n",
       "  </thead>\n",
       "  <tbody>\n",
       "    <tr>\n",
       "      <th>0</th>\n",
       "      <td>0.0</td>\n",
       "      <td>0.322034</td>\n",
       "      <td>0.881356</td>\n",
       "      <td>0.000000</td>\n",
       "      <td>0.0</td>\n",
       "      <td>0.000000</td>\n",
       "      <td>0.0</td>\n",
       "      <td>0.888889</td>\n",
       "      <td>0.0</td>\n",
       "      <td>0.0</td>\n",
       "      <td>...</td>\n",
       "      <td>0.0</td>\n",
       "      <td>0.0</td>\n",
       "      <td>0.0</td>\n",
       "      <td>0.0</td>\n",
       "      <td>0.0</td>\n",
       "      <td>0.0</td>\n",
       "      <td>0.0</td>\n",
       "      <td>0.0</td>\n",
       "      <td>0.0</td>\n",
       "      <td>0.0</td>\n",
       "    </tr>\n",
       "    <tr>\n",
       "      <th>1</th>\n",
       "      <td>0.0</td>\n",
       "      <td>0.322034</td>\n",
       "      <td>0.898305</td>\n",
       "      <td>0.000000</td>\n",
       "      <td>0.0</td>\n",
       "      <td>0.000000</td>\n",
       "      <td>0.0</td>\n",
       "      <td>0.888889</td>\n",
       "      <td>0.0</td>\n",
       "      <td>0.0</td>\n",
       "      <td>...</td>\n",
       "      <td>0.0</td>\n",
       "      <td>0.0</td>\n",
       "      <td>0.0</td>\n",
       "      <td>0.0</td>\n",
       "      <td>0.0</td>\n",
       "      <td>0.0</td>\n",
       "      <td>0.0</td>\n",
       "      <td>0.0</td>\n",
       "      <td>0.0</td>\n",
       "      <td>0.0</td>\n",
       "    </tr>\n",
       "    <tr>\n",
       "      <th>2</th>\n",
       "      <td>0.0</td>\n",
       "      <td>0.322034</td>\n",
       "      <td>0.915254</td>\n",
       "      <td>0.000000</td>\n",
       "      <td>0.0</td>\n",
       "      <td>0.000000</td>\n",
       "      <td>0.0</td>\n",
       "      <td>0.888889</td>\n",
       "      <td>0.0</td>\n",
       "      <td>0.0</td>\n",
       "      <td>...</td>\n",
       "      <td>0.0</td>\n",
       "      <td>0.0</td>\n",
       "      <td>0.0</td>\n",
       "      <td>0.0</td>\n",
       "      <td>0.0</td>\n",
       "      <td>0.0</td>\n",
       "      <td>0.0</td>\n",
       "      <td>0.0</td>\n",
       "      <td>0.0</td>\n",
       "      <td>0.0</td>\n",
       "    </tr>\n",
       "    <tr>\n",
       "      <th>3</th>\n",
       "      <td>0.0</td>\n",
       "      <td>0.322034</td>\n",
       "      <td>0.932203</td>\n",
       "      <td>0.365326</td>\n",
       "      <td>0.0</td>\n",
       "      <td>0.054422</td>\n",
       "      <td>0.0</td>\n",
       "      <td>0.444444</td>\n",
       "      <td>0.0</td>\n",
       "      <td>0.0</td>\n",
       "      <td>...</td>\n",
       "      <td>0.0</td>\n",
       "      <td>0.0</td>\n",
       "      <td>0.0</td>\n",
       "      <td>0.0</td>\n",
       "      <td>0.0</td>\n",
       "      <td>0.0</td>\n",
       "      <td>0.0</td>\n",
       "      <td>0.0</td>\n",
       "      <td>0.0</td>\n",
       "      <td>0.0</td>\n",
       "    </tr>\n",
       "    <tr>\n",
       "      <th>4</th>\n",
       "      <td>0.0</td>\n",
       "      <td>0.322034</td>\n",
       "      <td>0.949153</td>\n",
       "      <td>0.367433</td>\n",
       "      <td>0.0</td>\n",
       "      <td>0.000000</td>\n",
       "      <td>0.0</td>\n",
       "      <td>0.444444</td>\n",
       "      <td>0.0</td>\n",
       "      <td>0.0</td>\n",
       "      <td>...</td>\n",
       "      <td>0.0</td>\n",
       "      <td>0.0</td>\n",
       "      <td>0.0</td>\n",
       "      <td>0.0</td>\n",
       "      <td>0.0</td>\n",
       "      <td>0.0</td>\n",
       "      <td>0.0</td>\n",
       "      <td>0.0</td>\n",
       "      <td>0.0</td>\n",
       "      <td>0.0</td>\n",
       "    </tr>\n",
       "  </tbody>\n",
       "</table>\n",
       "<p>5 rows × 172 columns</p>\n",
       "</div>"
      ],
      "text/plain": [
       "  fanuc_cycle_hour fanuc_cycle_min fanuc_cycle_sec fanuc_rpm1 fanuc_rpm1_unit  \\\n",
       "0              0.0        0.322034        0.881356   0.000000             0.0   \n",
       "1              0.0        0.322034        0.898305   0.000000             0.0   \n",
       "2              0.0        0.322034        0.915254   0.000000             0.0   \n",
       "3              0.0        0.322034        0.932203   0.365326             0.0   \n",
       "4              0.0        0.322034        0.949153   0.367433             0.0   \n",
       "\n",
       "  fanuc_troq1 fanuc_troq1_unit fanuc_gearRatio1 fanuc_rpm2 fanuc_rpm2_unit  \\\n",
       "0    0.000000              0.0         0.888889        0.0             0.0   \n",
       "1    0.000000              0.0         0.888889        0.0             0.0   \n",
       "2    0.000000              0.0         0.888889        0.0             0.0   \n",
       "3    0.054422              0.0         0.444444        0.0             0.0   \n",
       "4    0.000000              0.0         0.444444        0.0             0.0   \n",
       "\n",
       "   ... adc_adc7 adc_adc8 dio_di1 dio_di2 dio_di3 dio_di4 dio_do1 dio_do2  \\\n",
       "0  ...      0.0      0.0     0.0     0.0     0.0     0.0     0.0     0.0   \n",
       "1  ...      0.0      0.0     0.0     0.0     0.0     0.0     0.0     0.0   \n",
       "2  ...      0.0      0.0     0.0     0.0     0.0     0.0     0.0     0.0   \n",
       "3  ...      0.0      0.0     0.0     0.0     0.0     0.0     0.0     0.0   \n",
       "4  ...      0.0      0.0     0.0     0.0     0.0     0.0     0.0     0.0   \n",
       "\n",
       "  dio_do3 dio_do4  \n",
       "0     0.0     0.0  \n",
       "1     0.0     0.0  \n",
       "2     0.0     0.0  \n",
       "3     0.0     0.0  \n",
       "4     0.0     0.0  \n",
       "\n",
       "[5 rows x 172 columns]"
      ]
     },
     "execution_count": 840,
     "metadata": {},
     "output_type": "execute_result"
    }
   ],
   "source": [
    "X.head()"
   ]
  },
  {
   "cell_type": "markdown",
   "id": "b97cb167",
   "metadata": {},
   "source": [
    "# K-Means model with two clusters"
   ]
  },
  {
   "cell_type": "code",
   "execution_count": 841,
   "id": "ca49aa8b",
   "metadata": {},
   "outputs": [
    {
     "name": "stderr",
     "output_type": "stream",
     "text": [
      "C:\\Users\\Imtiyaj\\anaconda3\\lib\\site-packages\\sklearn\\utils\\validation.py:1688: FutureWarning: Feature names only support names that are all strings. Got feature names with dtypes: ['tuple']. An error will be raised in 1.2.\n",
      "  warnings.warn(\n"
     ]
    }
   ],
   "source": [
    "from sklearn.cluster import KMeans\n",
    " \n",
    "kmeans = KMeans(n_clusters = 2)\n",
    " \n",
    "label = kmeans.fit_predict(X)\n",
    "X[\"cluster\"]=label"
   ]
  },
  {
   "cell_type": "markdown",
   "id": "57df1e88",
   "metadata": {},
   "source": [
    "# K-Means model parameters details\n",
    "\n",
    "* The KMeans algorithm clusters data by trying to separate samples in n groups of equal variances, minimizing a criterion known as inertia, or within-cluster sum-of-squares Inertia, or the within-cluster sum of squares criterion, can be recognized as a measure of how internally coherent clusters are.\n",
    "\n",
    "* The k-means algorithm divides a set of N samples X into K disjoint clusters C, each described by the mean j of the samples in the cluster. The means are commonly called the cluster centroids.\n",
    "\n",
    "* The K-means algorithm aims to choose centroids that minimize the inertia, or within-cluster sum of squared criterion."
   ]
  },
  {
   "cell_type": "code",
   "execution_count": 842,
   "id": "9962041f",
   "metadata": {},
   "outputs": [
    {
     "data": {
      "text/plain": [
       "array([[0.04473406, 0.51547155, 0.49014633, 0.52401364, 0.        ,\n",
       "        0.03983869, 0.        , 0.46985767, 0.        , 0.        ,\n",
       "        0.        , 0.        , 0.48872797, 0.        , 0.        ,\n",
       "        0.        , 0.        , 0.47023023, 0.        , 0.        ,\n",
       "        0.        , 0.        , 0.50228509, 0.        , 0.49419382,\n",
       "        0.25053633, 0.18617917, 0.50680356, 0.34104706, 0.31329566,\n",
       "        0.50680351, 0.3410475 , 0.3132935 , 0.50169623, 0.52832121,\n",
       "        0.49384835, 0.        , 0.        , 0.        , 0.        ,\n",
       "        0.        , 0.        , 0.        , 0.        , 0.        ,\n",
       "        0.        , 0.        , 0.        , 0.        , 0.        ,\n",
       "        0.        , 0.        , 0.        , 0.        , 0.        ,\n",
       "        0.        , 0.        , 0.        , 0.        , 0.        ,\n",
       "        0.        , 0.        , 0.        , 0.        , 0.        ,\n",
       "        0.        , 0.        , 0.        , 0.        , 0.        ,\n",
       "        0.        , 0.        , 0.        , 0.        , 0.        ,\n",
       "        0.        , 0.        , 0.        , 0.        , 0.        ,\n",
       "        0.        , 0.        , 0.        , 0.        , 0.        ,\n",
       "        0.        , 0.        , 0.        , 0.        , 0.        ,\n",
       "        0.        , 0.        , 0.        , 0.        , 0.        ,\n",
       "        0.        , 0.        , 0.        , 0.        , 0.        ,\n",
       "        0.        , 0.        , 0.        , 0.        , 0.        ,\n",
       "        0.        , 0.        , 0.        , 0.        , 0.        ,\n",
       "        0.        , 0.        , 0.        , 0.        , 0.        ,\n",
       "        0.        , 0.        , 0.        , 0.        , 0.        ,\n",
       "        0.        , 0.        , 0.        , 0.        , 0.        ,\n",
       "        0.        , 0.        , 0.        , 0.        , 0.        ,\n",
       "        0.        , 0.        , 0.        , 0.        , 0.        ,\n",
       "        0.        , 0.        , 0.        , 0.        , 0.        ,\n",
       "        0.        , 0.        , 0.        , 0.        , 0.        ,\n",
       "        0.        , 0.        , 0.        , 0.        , 0.        ,\n",
       "        0.        , 0.        , 0.        , 0.        , 0.        ,\n",
       "        0.        , 0.        , 0.        , 0.        , 0.        ,\n",
       "        0.        , 0.        , 0.        , 0.        , 0.        ,\n",
       "        0.        , 0.        , 0.        , 0.        , 0.        ,\n",
       "        0.        , 0.        ],\n",
       "       [0.16464238, 0.42892106, 0.55154509, 0.03406989, 0.        ,\n",
       "        0.03412377, 0.        , 0.8231369 , 0.        , 0.        ,\n",
       "        0.        , 0.        , 0.50201565, 0.        , 0.        ,\n",
       "        0.        , 0.        , 0.50176789, 0.        , 0.        ,\n",
       "        0.        , 0.        , 0.50003571, 0.        , 0.67446742,\n",
       "        0.71616174, 0.84467235, 0.89266869, 0.93622313, 0.99030155,\n",
       "        0.89266868, 0.93622325, 0.99030136, 0.48362333, 0.51423456,\n",
       "        0.50406226, 0.        , 0.        , 0.        , 0.        ,\n",
       "        0.        , 0.        , 0.        , 0.        , 0.        ,\n",
       "        0.        , 0.        , 0.        , 0.        , 0.        ,\n",
       "        0.        , 0.        , 0.        , 0.        , 0.        ,\n",
       "        0.        , 0.        , 0.        , 0.        , 0.        ,\n",
       "        0.        , 0.        , 0.        , 0.        , 0.        ,\n",
       "        0.        , 0.        , 0.        , 0.        , 0.        ,\n",
       "        0.        , 0.        , 0.        , 0.        , 0.        ,\n",
       "        0.        , 0.        , 0.        , 0.        , 0.        ,\n",
       "        0.        , 0.        , 0.        , 0.        , 0.        ,\n",
       "        0.        , 0.        , 0.        , 0.        , 0.        ,\n",
       "        0.        , 0.        , 0.        , 0.        , 0.        ,\n",
       "        0.        , 0.        , 0.        , 0.        , 0.        ,\n",
       "        0.        , 0.        , 0.        , 0.        , 0.        ,\n",
       "        0.        , 0.        , 0.        , 0.        , 0.        ,\n",
       "        0.        , 0.        , 0.        , 0.        , 0.        ,\n",
       "        0.        , 0.        , 0.        , 0.        , 0.        ,\n",
       "        0.        , 0.        , 0.        , 0.        , 0.        ,\n",
       "        0.        , 0.        , 0.        , 0.        , 0.        ,\n",
       "        0.        , 0.        , 0.        , 0.        , 0.        ,\n",
       "        0.        , 0.        , 0.        , 0.        , 0.        ,\n",
       "        0.        , 0.        , 0.        , 0.        , 0.        ,\n",
       "        0.        , 0.        , 0.        , 0.        , 0.        ,\n",
       "        0.        , 0.        , 0.        , 0.        , 0.        ,\n",
       "        0.        , 0.        , 0.        , 0.        , 0.        ,\n",
       "        0.        , 0.        , 0.        , 0.        , 0.        ,\n",
       "        0.        , 0.        , 0.        , 0.        , 0.        ,\n",
       "        0.        , 0.        ]])"
      ]
     },
     "execution_count": 842,
     "metadata": {},
     "output_type": "execute_result"
    }
   ],
   "source": [
    "kmeans.cluster_centers_"
   ]
  },
  {
   "cell_type": "markdown",
   "id": "653e2c3b",
   "metadata": {},
   "source": [
    "# Inertia\n",
    "* Inertia is not a normalized metric.\n",
    "\n",
    "* The lower values of inertia are better and zero is optimal.\n",
    "\n",
    "* But in very high-dimensional spaces, euclidean distances tend to become inflated (this is an instance of curse of dimensionality).\n",
    "\n",
    "* Running a dimensionality reduction algorithm such as PCA prior to k-means clustering can alleviate this problem and speed up the computations.\n",
    "\n",
    "* We can calculate model inertia as follows:-"
   ]
  },
  {
   "cell_type": "code",
   "execution_count": 843,
   "id": "ef41e4dc",
   "metadata": {},
   "outputs": [
    {
     "data": {
      "text/plain": [
       "7052.015327650466"
      ]
     },
     "execution_count": 843,
     "metadata": {},
     "output_type": "execute_result"
    }
   ],
   "source": [
    "kmeans.inertia_  # The lesser the model inertia, the better the model fit. \n",
    "                 # We can see that the model has very high inertia. So, this is not a good model fit to the data."
   ]
  },
  {
   "cell_type": "code",
   "execution_count": 870,
   "id": "56aabaa4",
   "metadata": {},
   "outputs": [
    {
     "name": "stdout",
     "output_type": "stream",
     "text": [
      "Labels [1 1 1 ... 1 1 1]\n"
     ]
    }
   ],
   "source": [
    "print(\"Labels\", kmeans.labels_)"
   ]
  },
  {
   "cell_type": "code",
   "execution_count": 851,
   "id": "76524a05",
   "metadata": {},
   "outputs": [
    {
     "data": {
      "text/html": [
       "<div>\n",
       "<style scoped>\n",
       "    .dataframe tbody tr th:only-of-type {\n",
       "        vertical-align: middle;\n",
       "    }\n",
       "\n",
       "    .dataframe tbody tr th {\n",
       "        vertical-align: top;\n",
       "    }\n",
       "\n",
       "    .dataframe thead tr th {\n",
       "        text-align: left;\n",
       "    }\n",
       "</style>\n",
       "<table border=\"1\" class=\"dataframe\">\n",
       "  <thead>\n",
       "    <tr>\n",
       "      <th></th>\n",
       "      <th>fanuc_cycle_hour</th>\n",
       "      <th>fanuc_cycle_min</th>\n",
       "      <th>fanuc_cycle_sec</th>\n",
       "      <th>fanuc_rpm1</th>\n",
       "      <th>fanuc_rpm1_unit</th>\n",
       "      <th>fanuc_troq1</th>\n",
       "      <th>fanuc_troq1_unit</th>\n",
       "      <th>fanuc_gearRatio1</th>\n",
       "      <th>fanuc_rpm2</th>\n",
       "      <th>fanuc_rpm2_unit</th>\n",
       "      <th>...</th>\n",
       "      <th>adc_adc8</th>\n",
       "      <th>dio_di1</th>\n",
       "      <th>dio_di2</th>\n",
       "      <th>dio_di3</th>\n",
       "      <th>dio_di4</th>\n",
       "      <th>dio_do1</th>\n",
       "      <th>dio_do2</th>\n",
       "      <th>dio_do3</th>\n",
       "      <th>dio_do4</th>\n",
       "      <th>cluster</th>\n",
       "    </tr>\n",
       "  </thead>\n",
       "  <tbody>\n",
       "    <tr>\n",
       "      <th>0</th>\n",
       "      <td>0.0</td>\n",
       "      <td>0.322034</td>\n",
       "      <td>0.881356</td>\n",
       "      <td>0.000000</td>\n",
       "      <td>0.0</td>\n",
       "      <td>0.000000</td>\n",
       "      <td>0.0</td>\n",
       "      <td>0.888889</td>\n",
       "      <td>0.0</td>\n",
       "      <td>0.0</td>\n",
       "      <td>...</td>\n",
       "      <td>0.0</td>\n",
       "      <td>0.0</td>\n",
       "      <td>0.0</td>\n",
       "      <td>0.0</td>\n",
       "      <td>0.0</td>\n",
       "      <td>0.0</td>\n",
       "      <td>0.0</td>\n",
       "      <td>0.0</td>\n",
       "      <td>0.0</td>\n",
       "      <td>0</td>\n",
       "    </tr>\n",
       "    <tr>\n",
       "      <th>1</th>\n",
       "      <td>0.0</td>\n",
       "      <td>0.322034</td>\n",
       "      <td>0.898305</td>\n",
       "      <td>0.000000</td>\n",
       "      <td>0.0</td>\n",
       "      <td>0.000000</td>\n",
       "      <td>0.0</td>\n",
       "      <td>0.888889</td>\n",
       "      <td>0.0</td>\n",
       "      <td>0.0</td>\n",
       "      <td>...</td>\n",
       "      <td>0.0</td>\n",
       "      <td>0.0</td>\n",
       "      <td>0.0</td>\n",
       "      <td>0.0</td>\n",
       "      <td>0.0</td>\n",
       "      <td>0.0</td>\n",
       "      <td>0.0</td>\n",
       "      <td>0.0</td>\n",
       "      <td>0.0</td>\n",
       "      <td>0</td>\n",
       "    </tr>\n",
       "    <tr>\n",
       "      <th>2</th>\n",
       "      <td>0.0</td>\n",
       "      <td>0.322034</td>\n",
       "      <td>0.915254</td>\n",
       "      <td>0.000000</td>\n",
       "      <td>0.0</td>\n",
       "      <td>0.000000</td>\n",
       "      <td>0.0</td>\n",
       "      <td>0.888889</td>\n",
       "      <td>0.0</td>\n",
       "      <td>0.0</td>\n",
       "      <td>...</td>\n",
       "      <td>0.0</td>\n",
       "      <td>0.0</td>\n",
       "      <td>0.0</td>\n",
       "      <td>0.0</td>\n",
       "      <td>0.0</td>\n",
       "      <td>0.0</td>\n",
       "      <td>0.0</td>\n",
       "      <td>0.0</td>\n",
       "      <td>0.0</td>\n",
       "      <td>0</td>\n",
       "    </tr>\n",
       "    <tr>\n",
       "      <th>3</th>\n",
       "      <td>0.0</td>\n",
       "      <td>0.322034</td>\n",
       "      <td>0.932203</td>\n",
       "      <td>0.365326</td>\n",
       "      <td>0.0</td>\n",
       "      <td>0.054422</td>\n",
       "      <td>0.0</td>\n",
       "      <td>0.444444</td>\n",
       "      <td>0.0</td>\n",
       "      <td>0.0</td>\n",
       "      <td>...</td>\n",
       "      <td>0.0</td>\n",
       "      <td>0.0</td>\n",
       "      <td>0.0</td>\n",
       "      <td>0.0</td>\n",
       "      <td>0.0</td>\n",
       "      <td>0.0</td>\n",
       "      <td>0.0</td>\n",
       "      <td>0.0</td>\n",
       "      <td>0.0</td>\n",
       "      <td>1</td>\n",
       "    </tr>\n",
       "    <tr>\n",
       "      <th>4</th>\n",
       "      <td>0.0</td>\n",
       "      <td>0.322034</td>\n",
       "      <td>0.949153</td>\n",
       "      <td>0.367433</td>\n",
       "      <td>0.0</td>\n",
       "      <td>0.000000</td>\n",
       "      <td>0.0</td>\n",
       "      <td>0.444444</td>\n",
       "      <td>0.0</td>\n",
       "      <td>0.0</td>\n",
       "      <td>...</td>\n",
       "      <td>0.0</td>\n",
       "      <td>0.0</td>\n",
       "      <td>0.0</td>\n",
       "      <td>0.0</td>\n",
       "      <td>0.0</td>\n",
       "      <td>0.0</td>\n",
       "      <td>0.0</td>\n",
       "      <td>0.0</td>\n",
       "      <td>0.0</td>\n",
       "      <td>1</td>\n",
       "    </tr>\n",
       "    <tr>\n",
       "      <th>...</th>\n",
       "      <td>...</td>\n",
       "      <td>...</td>\n",
       "      <td>...</td>\n",
       "      <td>...</td>\n",
       "      <td>...</td>\n",
       "      <td>...</td>\n",
       "      <td>...</td>\n",
       "      <td>...</td>\n",
       "      <td>...</td>\n",
       "      <td>...</td>\n",
       "      <td>...</td>\n",
       "      <td>...</td>\n",
       "      <td>...</td>\n",
       "      <td>...</td>\n",
       "      <td>...</td>\n",
       "      <td>...</td>\n",
       "      <td>...</td>\n",
       "      <td>...</td>\n",
       "      <td>...</td>\n",
       "      <td>...</td>\n",
       "      <td>...</td>\n",
       "    </tr>\n",
       "    <tr>\n",
       "      <th>9994</th>\n",
       "      <td>0.0</td>\n",
       "      <td>0.949153</td>\n",
       "      <td>0.864407</td>\n",
       "      <td>0.000000</td>\n",
       "      <td>0.0</td>\n",
       "      <td>0.000000</td>\n",
       "      <td>0.0</td>\n",
       "      <td>0.111111</td>\n",
       "      <td>0.0</td>\n",
       "      <td>0.0</td>\n",
       "      <td>...</td>\n",
       "      <td>0.0</td>\n",
       "      <td>0.0</td>\n",
       "      <td>0.0</td>\n",
       "      <td>0.0</td>\n",
       "      <td>0.0</td>\n",
       "      <td>0.0</td>\n",
       "      <td>0.0</td>\n",
       "      <td>0.0</td>\n",
       "      <td>0.0</td>\n",
       "      <td>0</td>\n",
       "    </tr>\n",
       "    <tr>\n",
       "      <th>9995</th>\n",
       "      <td>0.0</td>\n",
       "      <td>0.949153</td>\n",
       "      <td>0.881356</td>\n",
       "      <td>0.000192</td>\n",
       "      <td>0.0</td>\n",
       "      <td>0.163265</td>\n",
       "      <td>0.0</td>\n",
       "      <td>1.000000</td>\n",
       "      <td>0.0</td>\n",
       "      <td>0.0</td>\n",
       "      <td>...</td>\n",
       "      <td>0.0</td>\n",
       "      <td>0.0</td>\n",
       "      <td>0.0</td>\n",
       "      <td>0.0</td>\n",
       "      <td>0.0</td>\n",
       "      <td>0.0</td>\n",
       "      <td>0.0</td>\n",
       "      <td>0.0</td>\n",
       "      <td>0.0</td>\n",
       "      <td>0</td>\n",
       "    </tr>\n",
       "    <tr>\n",
       "      <th>9996</th>\n",
       "      <td>0.0</td>\n",
       "      <td>0.949153</td>\n",
       "      <td>0.898305</td>\n",
       "      <td>0.026628</td>\n",
       "      <td>0.0</td>\n",
       "      <td>0.102041</td>\n",
       "      <td>0.0</td>\n",
       "      <td>1.000000</td>\n",
       "      <td>0.0</td>\n",
       "      <td>0.0</td>\n",
       "      <td>...</td>\n",
       "      <td>0.0</td>\n",
       "      <td>0.0</td>\n",
       "      <td>0.0</td>\n",
       "      <td>0.0</td>\n",
       "      <td>0.0</td>\n",
       "      <td>0.0</td>\n",
       "      <td>0.0</td>\n",
       "      <td>0.0</td>\n",
       "      <td>0.0</td>\n",
       "      <td>0</td>\n",
       "    </tr>\n",
       "    <tr>\n",
       "      <th>9997</th>\n",
       "      <td>0.0</td>\n",
       "      <td>0.949153</td>\n",
       "      <td>0.915254</td>\n",
       "      <td>0.000000</td>\n",
       "      <td>0.0</td>\n",
       "      <td>0.000000</td>\n",
       "      <td>0.0</td>\n",
       "      <td>1.000000</td>\n",
       "      <td>0.0</td>\n",
       "      <td>0.0</td>\n",
       "      <td>...</td>\n",
       "      <td>0.0</td>\n",
       "      <td>0.0</td>\n",
       "      <td>0.0</td>\n",
       "      <td>0.0</td>\n",
       "      <td>0.0</td>\n",
       "      <td>0.0</td>\n",
       "      <td>0.0</td>\n",
       "      <td>0.0</td>\n",
       "      <td>0.0</td>\n",
       "      <td>0</td>\n",
       "    </tr>\n",
       "    <tr>\n",
       "      <th>9998</th>\n",
       "      <td>0.0</td>\n",
       "      <td>0.949153</td>\n",
       "      <td>0.932203</td>\n",
       "      <td>0.000000</td>\n",
       "      <td>0.0</td>\n",
       "      <td>0.000000</td>\n",
       "      <td>0.0</td>\n",
       "      <td>1.000000</td>\n",
       "      <td>0.0</td>\n",
       "      <td>0.0</td>\n",
       "      <td>...</td>\n",
       "      <td>0.0</td>\n",
       "      <td>0.0</td>\n",
       "      <td>0.0</td>\n",
       "      <td>0.0</td>\n",
       "      <td>0.0</td>\n",
       "      <td>0.0</td>\n",
       "      <td>0.0</td>\n",
       "      <td>0.0</td>\n",
       "      <td>0.0</td>\n",
       "      <td>0</td>\n",
       "    </tr>\n",
       "  </tbody>\n",
       "</table>\n",
       "<p>9999 rows × 173 columns</p>\n",
       "</div>"
      ],
      "text/plain": [
       "     fanuc_cycle_hour fanuc_cycle_min fanuc_cycle_sec fanuc_rpm1  \\\n",
       "0                 0.0        0.322034        0.881356   0.000000   \n",
       "1                 0.0        0.322034        0.898305   0.000000   \n",
       "2                 0.0        0.322034        0.915254   0.000000   \n",
       "3                 0.0        0.322034        0.932203   0.365326   \n",
       "4                 0.0        0.322034        0.949153   0.367433   \n",
       "...               ...             ...             ...        ...   \n",
       "9994              0.0        0.949153        0.864407   0.000000   \n",
       "9995              0.0        0.949153        0.881356   0.000192   \n",
       "9996              0.0        0.949153        0.898305   0.026628   \n",
       "9997              0.0        0.949153        0.915254   0.000000   \n",
       "9998              0.0        0.949153        0.932203   0.000000   \n",
       "\n",
       "     fanuc_rpm1_unit fanuc_troq1 fanuc_troq1_unit fanuc_gearRatio1 fanuc_rpm2  \\\n",
       "0                0.0    0.000000              0.0         0.888889        0.0   \n",
       "1                0.0    0.000000              0.0         0.888889        0.0   \n",
       "2                0.0    0.000000              0.0         0.888889        0.0   \n",
       "3                0.0    0.054422              0.0         0.444444        0.0   \n",
       "4                0.0    0.000000              0.0         0.444444        0.0   \n",
       "...              ...         ...              ...              ...        ...   \n",
       "9994             0.0    0.000000              0.0         0.111111        0.0   \n",
       "9995             0.0    0.163265              0.0         1.000000        0.0   \n",
       "9996             0.0    0.102041              0.0         1.000000        0.0   \n",
       "9997             0.0    0.000000              0.0         1.000000        0.0   \n",
       "9998             0.0    0.000000              0.0         1.000000        0.0   \n",
       "\n",
       "     fanuc_rpm2_unit  ... adc_adc8 dio_di1 dio_di2 dio_di3 dio_di4 dio_do1  \\\n",
       "0                0.0  ...      0.0     0.0     0.0     0.0     0.0     0.0   \n",
       "1                0.0  ...      0.0     0.0     0.0     0.0     0.0     0.0   \n",
       "2                0.0  ...      0.0     0.0     0.0     0.0     0.0     0.0   \n",
       "3                0.0  ...      0.0     0.0     0.0     0.0     0.0     0.0   \n",
       "4                0.0  ...      0.0     0.0     0.0     0.0     0.0     0.0   \n",
       "...              ...  ...      ...     ...     ...     ...     ...     ...   \n",
       "9994             0.0  ...      0.0     0.0     0.0     0.0     0.0     0.0   \n",
       "9995             0.0  ...      0.0     0.0     0.0     0.0     0.0     0.0   \n",
       "9996             0.0  ...      0.0     0.0     0.0     0.0     0.0     0.0   \n",
       "9997             0.0  ...      0.0     0.0     0.0     0.0     0.0     0.0   \n",
       "9998             0.0  ...      0.0     0.0     0.0     0.0     0.0     0.0   \n",
       "\n",
       "     dio_do2 dio_do3 dio_do4 cluster  \n",
       "0        0.0     0.0     0.0       0  \n",
       "1        0.0     0.0     0.0       0  \n",
       "2        0.0     0.0     0.0       0  \n",
       "3        0.0     0.0     0.0       1  \n",
       "4        0.0     0.0     0.0       1  \n",
       "...      ...     ...     ...     ...  \n",
       "9994     0.0     0.0     0.0       0  \n",
       "9995     0.0     0.0     0.0       0  \n",
       "9996     0.0     0.0     0.0       0  \n",
       "9997     0.0     0.0     0.0       0  \n",
       "9998     0.0     0.0     0.0       0  \n",
       "\n",
       "[9999 rows x 173 columns]"
      ]
     },
     "execution_count": 851,
     "metadata": {},
     "output_type": "execute_result"
    }
   ],
   "source": [
    "X=dataFrame\n",
    "dataFrame"
   ]
  },
  {
   "cell_type": "code",
   "execution_count": 852,
   "id": "75154884",
   "metadata": {},
   "outputs": [
    {
     "data": {
      "image/png": "[encoded data removed]",
      "text/plain": [
       "<Figure size 640x480 with 1 Axes>"
      ]
     },
     "metadata": {},
     "output_type": "display_data"
    }
   ],
   "source": [
    "x=dataFrame[\"fanuc_gearRatio1\"]\n",
    "y=dataFrame['cluster']\n",
    "\n",
    "plt.scatter(x, y)\n",
    "plt.show()"
   ]
  },
  {
   "cell_type": "code",
   "execution_count": 853,
   "id": "764121a2",
   "metadata": {},
   "outputs": [
    {
     "name": "stderr",
     "output_type": "stream",
     "text": [
      "C:\\Users\\Imtiyaj\\AppData\\Local\\Temp\\ipykernel_13340\\1877325383.py:2: PerformanceWarning: dropping on a non-lexsorted multi-index without a level parameter may impact performance.\n",
      "  dataX=dataFrame.drop('cluster',axis=1)             #It drop the cluster column and consider all other values .\n"
     ]
    }
   ],
   "source": [
    "Labels=dataFrame['cluster']                        # It take cluster column as a targeted label.\n",
    "dataX=dataFrame.drop('cluster',axis=1)             #It drop the cluster column and consider all other values ."
   ]
  },
  {
   "cell_type": "markdown",
   "id": "7440c8ac",
   "metadata": {},
   "source": [
    "# Handle Missing Values or NAN values"
   ]
  },
  {
   "cell_type": "code",
   "execution_count": 854,
   "id": "64b68cc2",
   "metadata": {},
   "outputs": [
    {
     "name": "stderr",
     "output_type": "stream",
     "text": [
      "C:\\Users\\Imtiyaj\\anaconda3\\lib\\site-packages\\sklearn\\utils\\validation.py:1688: FutureWarning: Feature names only support names that are all strings. Got feature names with dtypes: ['tuple']. An error will be raised in 1.2.\n",
      "  warnings.warn(\n",
      "C:\\Users\\Imtiyaj\\anaconda3\\lib\\site-packages\\sklearn\\utils\\validation.py:1688: FutureWarning: Feature names only support names that are all strings. Got feature names with dtypes: ['tuple']. An error will be raised in 1.2.\n",
      "  warnings.warn(\n"
     ]
    }
   ],
   "source": [
    "from sklearn.impute import SimpleImputer                                         #SimpleImputer  help to filed the missing \n",
    "                                                                                   # or non-values  using means or median.\n",
    "imputer = SimpleImputer(missing_values = np.nan, strategy = 'mean')\n",
    "imputer = imputer.fit(dataX)\n",
    "X = imputer.transform(dataX)"
   ]
  },
  {
   "cell_type": "markdown",
   "id": "7e9c94ae",
   "metadata": {},
   "source": [
    "# Feature Selection\n",
    "* Bruta or RFE are used as a feature selection method, It select useful features and drop less useful features."
   ]
  },
  {
   "cell_type": "code",
   "execution_count": 855,
   "id": "59847e01",
   "metadata": {},
   "outputs": [
    {
     "name": "stderr",
     "output_type": "stream",
     "text": [
      "C:\\Users\\Imtiyaj\\anaconda3\\lib\\site-packages\\sklearn\\utils\\validation.py:993: DataConversionWarning: A column-vector y was passed when a 1d array was expected. Please change the shape of y to (n_samples, ), for example using ravel().\n",
      "  y = column_or_1d(y, warn=True)\n",
      "C:\\Users\\Imtiyaj\\anaconda3\\lib\\site-packages\\boruta\\boruta_py.py:384: DataConversionWarning: A column-vector y was passed when a 1d array was expected. Please change the shape of y to (n_samples,), for example using ravel().\n",
      "  self.estimator.fit(X, y)\n"
     ]
    },
    {
     "name": "stdout",
     "output_type": "stream",
     "text": [
      "Iteration: 1 / 100\n"
     ]
    },
    {
     "name": "stderr",
     "output_type": "stream",
     "text": [
      "C:\\Users\\Imtiyaj\\anaconda3\\lib\\site-packages\\boruta\\boruta_py.py:384: DataConversionWarning: A column-vector y was passed when a 1d array was expected. Please change the shape of y to (n_samples,), for example using ravel().\n",
      "  self.estimator.fit(X, y)\n"
     ]
    },
    {
     "name": "stdout",
     "output_type": "stream",
     "text": [
      "Iteration: 2 / 100\n"
     ]
    },
    {
     "name": "stderr",
     "output_type": "stream",
     "text": [
      "C:\\Users\\Imtiyaj\\anaconda3\\lib\\site-packages\\boruta\\boruta_py.py:384: DataConversionWarning: A column-vector y was passed when a 1d array was expected. Please change the shape of y to (n_samples,), for example using ravel().\n",
      "  self.estimator.fit(X, y)\n"
     ]
    },
    {
     "name": "stdout",
     "output_type": "stream",
     "text": [
      "Iteration: 3 / 100\n"
     ]
    },
    {
     "name": "stderr",
     "output_type": "stream",
     "text": [
      "C:\\Users\\Imtiyaj\\anaconda3\\lib\\site-packages\\boruta\\boruta_py.py:384: DataConversionWarning: A column-vector y was passed when a 1d array was expected. Please change the shape of y to (n_samples,), for example using ravel().\n",
      "  self.estimator.fit(X, y)\n"
     ]
    },
    {
     "name": "stdout",
     "output_type": "stream",
     "text": [
      "Iteration: 4 / 100\n"
     ]
    },
    {
     "name": "stderr",
     "output_type": "stream",
     "text": [
      "C:\\Users\\Imtiyaj\\anaconda3\\lib\\site-packages\\boruta\\boruta_py.py:384: DataConversionWarning: A column-vector y was passed when a 1d array was expected. Please change the shape of y to (n_samples,), for example using ravel().\n",
      "  self.estimator.fit(X, y)\n"
     ]
    },
    {
     "name": "stdout",
     "output_type": "stream",
     "text": [
      "Iteration: 5 / 100\n"
     ]
    },
    {
     "name": "stderr",
     "output_type": "stream",
     "text": [
      "C:\\Users\\Imtiyaj\\anaconda3\\lib\\site-packages\\boruta\\boruta_py.py:384: DataConversionWarning: A column-vector y was passed when a 1d array was expected. Please change the shape of y to (n_samples,), for example using ravel().\n",
      "  self.estimator.fit(X, y)\n"
     ]
    },
    {
     "name": "stdout",
     "output_type": "stream",
     "text": [
      "Iteration: 6 / 100\n"
     ]
    },
    {
     "name": "stderr",
     "output_type": "stream",
     "text": [
      "C:\\Users\\Imtiyaj\\anaconda3\\lib\\site-packages\\boruta\\boruta_py.py:384: DataConversionWarning: A column-vector y was passed when a 1d array was expected. Please change the shape of y to (n_samples,), for example using ravel().\n",
      "  self.estimator.fit(X, y)\n"
     ]
    },
    {
     "name": "stdout",
     "output_type": "stream",
     "text": [
      "Iteration: 7 / 100\n"
     ]
    },
    {
     "name": "stderr",
     "output_type": "stream",
     "text": [
      "C:\\Users\\Imtiyaj\\anaconda3\\lib\\site-packages\\boruta\\boruta_py.py:384: DataConversionWarning: A column-vector y was passed when a 1d array was expected. Please change the shape of y to (n_samples,), for example using ravel().\n",
      "  self.estimator.fit(X, y)\n"
     ]
    },
    {
     "name": "stdout",
     "output_type": "stream",
     "text": [
      "Iteration: 8 / 100\n"
     ]
    },
    {
     "name": "stderr",
     "output_type": "stream",
     "text": [
      "C:\\Users\\Imtiyaj\\anaconda3\\lib\\site-packages\\boruta\\boruta_py.py:384: DataConversionWarning: A column-vector y was passed when a 1d array was expected. Please change the shape of y to (n_samples,), for example using ravel().\n",
      "  self.estimator.fit(X, y)\n"
     ]
    },
    {
     "name": "stdout",
     "output_type": "stream",
     "text": [
      "Iteration: 9 / 100\n"
     ]
    },
    {
     "name": "stderr",
     "output_type": "stream",
     "text": [
      "C:\\Users\\Imtiyaj\\anaconda3\\lib\\site-packages\\boruta\\boruta_py.py:384: DataConversionWarning: A column-vector y was passed when a 1d array was expected. Please change the shape of y to (n_samples,), for example using ravel().\n",
      "  self.estimator.fit(X, y)\n"
     ]
    },
    {
     "name": "stdout",
     "output_type": "stream",
     "text": [
      "Iteration: 10 / 100\n"
     ]
    },
    {
     "name": "stderr",
     "output_type": "stream",
     "text": [
      "C:\\Users\\Imtiyaj\\anaconda3\\lib\\site-packages\\boruta\\boruta_py.py:384: DataConversionWarning: A column-vector y was passed when a 1d array was expected. Please change the shape of y to (n_samples,), for example using ravel().\n",
      "  self.estimator.fit(X, y)\n"
     ]
    },
    {
     "name": "stdout",
     "output_type": "stream",
     "text": [
      "Iteration: 11 / 100\n"
     ]
    },
    {
     "name": "stderr",
     "output_type": "stream",
     "text": [
      "C:\\Users\\Imtiyaj\\anaconda3\\lib\\site-packages\\boruta\\boruta_py.py:384: DataConversionWarning: A column-vector y was passed when a 1d array was expected. Please change the shape of y to (n_samples,), for example using ravel().\n",
      "  self.estimator.fit(X, y)\n"
     ]
    },
    {
     "name": "stdout",
     "output_type": "stream",
     "text": [
      "Iteration: 12 / 100\n"
     ]
    },
    {
     "name": "stderr",
     "output_type": "stream",
     "text": [
      "C:\\Users\\Imtiyaj\\anaconda3\\lib\\site-packages\\boruta\\boruta_py.py:384: DataConversionWarning: A column-vector y was passed when a 1d array was expected. Please change the shape of y to (n_samples,), for example using ravel().\n",
      "  self.estimator.fit(X, y)\n"
     ]
    },
    {
     "name": "stdout",
     "output_type": "stream",
     "text": [
      "Iteration: 13 / 100\n"
     ]
    },
    {
     "name": "stderr",
     "output_type": "stream",
     "text": [
      "C:\\Users\\Imtiyaj\\anaconda3\\lib\\site-packages\\boruta\\boruta_py.py:384: DataConversionWarning: A column-vector y was passed when a 1d array was expected. Please change the shape of y to (n_samples,), for example using ravel().\n",
      "  self.estimator.fit(X, y)\n"
     ]
    },
    {
     "name": "stdout",
     "output_type": "stream",
     "text": [
      "Iteration: 14 / 100\n"
     ]
    },
    {
     "name": "stderr",
     "output_type": "stream",
     "text": [
      "C:\\Users\\Imtiyaj\\anaconda3\\lib\\site-packages\\boruta\\boruta_py.py:384: DataConversionWarning: A column-vector y was passed when a 1d array was expected. Please change the shape of y to (n_samples,), for example using ravel().\n",
      "  self.estimator.fit(X, y)\n"
     ]
    },
    {
     "name": "stdout",
     "output_type": "stream",
     "text": [
      "Iteration: 15 / 100\n"
     ]
    },
    {
     "name": "stderr",
     "output_type": "stream",
     "text": [
      "C:\\Users\\Imtiyaj\\anaconda3\\lib\\site-packages\\boruta\\boruta_py.py:384: DataConversionWarning: A column-vector y was passed when a 1d array was expected. Please change the shape of y to (n_samples,), for example using ravel().\n",
      "  self.estimator.fit(X, y)\n"
     ]
    },
    {
     "name": "stdout",
     "output_type": "stream",
     "text": [
      "Iteration: 16 / 100\n"
     ]
    },
    {
     "name": "stderr",
     "output_type": "stream",
     "text": [
      "C:\\Users\\Imtiyaj\\anaconda3\\lib\\site-packages\\boruta\\boruta_py.py:384: DataConversionWarning: A column-vector y was passed when a 1d array was expected. Please change the shape of y to (n_samples,), for example using ravel().\n",
      "  self.estimator.fit(X, y)\n"
     ]
    },
    {
     "name": "stdout",
     "output_type": "stream",
     "text": [
      "Iteration: 17 / 100\n"
     ]
    },
    {
     "name": "stderr",
     "output_type": "stream",
     "text": [
      "C:\\Users\\Imtiyaj\\anaconda3\\lib\\site-packages\\boruta\\boruta_py.py:384: DataConversionWarning: A column-vector y was passed when a 1d array was expected. Please change the shape of y to (n_samples,), for example using ravel().\n",
      "  self.estimator.fit(X, y)\n"
     ]
    },
    {
     "name": "stdout",
     "output_type": "stream",
     "text": [
      "Iteration: 18 / 100\n"
     ]
    },
    {
     "name": "stderr",
     "output_type": "stream",
     "text": [
      "C:\\Users\\Imtiyaj\\anaconda3\\lib\\site-packages\\boruta\\boruta_py.py:384: DataConversionWarning: A column-vector y was passed when a 1d array was expected. Please change the shape of y to (n_samples,), for example using ravel().\n",
      "  self.estimator.fit(X, y)\n"
     ]
    },
    {
     "name": "stdout",
     "output_type": "stream",
     "text": [
      "Iteration: 19 / 100\n"
     ]
    },
    {
     "name": "stderr",
     "output_type": "stream",
     "text": [
      "C:\\Users\\Imtiyaj\\anaconda3\\lib\\site-packages\\boruta\\boruta_py.py:384: DataConversionWarning: A column-vector y was passed when a 1d array was expected. Please change the shape of y to (n_samples,), for example using ravel().\n",
      "  self.estimator.fit(X, y)\n"
     ]
    },
    {
     "name": "stdout",
     "output_type": "stream",
     "text": [
      "Iteration: 20 / 100\n"
     ]
    },
    {
     "name": "stderr",
     "output_type": "stream",
     "text": [
      "C:\\Users\\Imtiyaj\\anaconda3\\lib\\site-packages\\boruta\\boruta_py.py:384: DataConversionWarning: A column-vector y was passed when a 1d array was expected. Please change the shape of y to (n_samples,), for example using ravel().\n",
      "  self.estimator.fit(X, y)\n"
     ]
    },
    {
     "name": "stdout",
     "output_type": "stream",
     "text": [
      "Iteration: 21 / 100\n"
     ]
    },
    {
     "name": "stderr",
     "output_type": "stream",
     "text": [
      "C:\\Users\\Imtiyaj\\anaconda3\\lib\\site-packages\\boruta\\boruta_py.py:384: DataConversionWarning: A column-vector y was passed when a 1d array was expected. Please change the shape of y to (n_samples,), for example using ravel().\n",
      "  self.estimator.fit(X, y)\n"
     ]
    },
    {
     "name": "stdout",
     "output_type": "stream",
     "text": [
      "Iteration: 22 / 100\n"
     ]
    },
    {
     "name": "stderr",
     "output_type": "stream",
     "text": [
      "C:\\Users\\Imtiyaj\\anaconda3\\lib\\site-packages\\boruta\\boruta_py.py:384: DataConversionWarning: A column-vector y was passed when a 1d array was expected. Please change the shape of y to (n_samples,), for example using ravel().\n",
      "  self.estimator.fit(X, y)\n"
     ]
    },
    {
     "name": "stdout",
     "output_type": "stream",
     "text": [
      "Iteration: 23 / 100\n"
     ]
    },
    {
     "name": "stderr",
     "output_type": "stream",
     "text": [
      "C:\\Users\\Imtiyaj\\anaconda3\\lib\\site-packages\\boruta\\boruta_py.py:384: DataConversionWarning: A column-vector y was passed when a 1d array was expected. Please change the shape of y to (n_samples,), for example using ravel().\n",
      "  self.estimator.fit(X, y)\n"
     ]
    },
    {
     "name": "stdout",
     "output_type": "stream",
     "text": [
      "Iteration: 24 / 100\n"
     ]
    },
    {
     "name": "stderr",
     "output_type": "stream",
     "text": [
      "C:\\Users\\Imtiyaj\\anaconda3\\lib\\site-packages\\boruta\\boruta_py.py:384: DataConversionWarning: A column-vector y was passed when a 1d array was expected. Please change the shape of y to (n_samples,), for example using ravel().\n",
      "  self.estimator.fit(X, y)\n"
     ]
    },
    {
     "name": "stdout",
     "output_type": "stream",
     "text": [
      "Iteration: 25 / 100\n"
     ]
    },
    {
     "name": "stderr",
     "output_type": "stream",
     "text": [
      "C:\\Users\\Imtiyaj\\anaconda3\\lib\\site-packages\\boruta\\boruta_py.py:384: DataConversionWarning: A column-vector y was passed when a 1d array was expected. Please change the shape of y to (n_samples,), for example using ravel().\n",
      "  self.estimator.fit(X, y)\n"
     ]
    },
    {
     "name": "stdout",
     "output_type": "stream",
     "text": [
      "Iteration: 26 / 100\n"
     ]
    },
    {
     "name": "stderr",
     "output_type": "stream",
     "text": [
      "C:\\Users\\Imtiyaj\\anaconda3\\lib\\site-packages\\boruta\\boruta_py.py:384: DataConversionWarning: A column-vector y was passed when a 1d array was expected. Please change the shape of y to (n_samples,), for example using ravel().\n",
      "  self.estimator.fit(X, y)\n"
     ]
    },
    {
     "name": "stdout",
     "output_type": "stream",
     "text": [
      "Iteration: 27 / 100\n"
     ]
    },
    {
     "name": "stderr",
     "output_type": "stream",
     "text": [
      "C:\\Users\\Imtiyaj\\anaconda3\\lib\\site-packages\\boruta\\boruta_py.py:384: DataConversionWarning: A column-vector y was passed when a 1d array was expected. Please change the shape of y to (n_samples,), for example using ravel().\n",
      "  self.estimator.fit(X, y)\n"
     ]
    },
    {
     "name": "stdout",
     "output_type": "stream",
     "text": [
      "Iteration: 28 / 100\n"
     ]
    },
    {
     "name": "stderr",
     "output_type": "stream",
     "text": [
      "C:\\Users\\Imtiyaj\\anaconda3\\lib\\site-packages\\boruta\\boruta_py.py:384: DataConversionWarning: A column-vector y was passed when a 1d array was expected. Please change the shape of y to (n_samples,), for example using ravel().\n",
      "  self.estimator.fit(X, y)\n"
     ]
    },
    {
     "name": "stdout",
     "output_type": "stream",
     "text": [
      "Iteration: 29 / 100\n"
     ]
    },
    {
     "name": "stderr",
     "output_type": "stream",
     "text": [
      "C:\\Users\\Imtiyaj\\anaconda3\\lib\\site-packages\\boruta\\boruta_py.py:384: DataConversionWarning: A column-vector y was passed when a 1d array was expected. Please change the shape of y to (n_samples,), for example using ravel().\n",
      "  self.estimator.fit(X, y)\n"
     ]
    },
    {
     "name": "stdout",
     "output_type": "stream",
     "text": [
      "Iteration: 30 / 100\n"
     ]
    },
    {
     "name": "stderr",
     "output_type": "stream",
     "text": [
      "C:\\Users\\Imtiyaj\\anaconda3\\lib\\site-packages\\boruta\\boruta_py.py:384: DataConversionWarning: A column-vector y was passed when a 1d array was expected. Please change the shape of y to (n_samples,), for example using ravel().\n",
      "  self.estimator.fit(X, y)\n"
     ]
    },
    {
     "name": "stdout",
     "output_type": "stream",
     "text": [
      "Iteration: 31 / 100\n"
     ]
    },
    {
     "name": "stderr",
     "output_type": "stream",
     "text": [
      "C:\\Users\\Imtiyaj\\anaconda3\\lib\\site-packages\\boruta\\boruta_py.py:384: DataConversionWarning: A column-vector y was passed when a 1d array was expected. Please change the shape of y to (n_samples,), for example using ravel().\n",
      "  self.estimator.fit(X, y)\n"
     ]
    },
    {
     "name": "stdout",
     "output_type": "stream",
     "text": [
      "Iteration: 32 / 100\n"
     ]
    },
    {
     "name": "stderr",
     "output_type": "stream",
     "text": [
      "C:\\Users\\Imtiyaj\\anaconda3\\lib\\site-packages\\boruta\\boruta_py.py:384: DataConversionWarning: A column-vector y was passed when a 1d array was expected. Please change the shape of y to (n_samples,), for example using ravel().\n",
      "  self.estimator.fit(X, y)\n"
     ]
    },
    {
     "name": "stdout",
     "output_type": "stream",
     "text": [
      "Iteration: 33 / 100\n"
     ]
    },
    {
     "name": "stderr",
     "output_type": "stream",
     "text": [
      "C:\\Users\\Imtiyaj\\anaconda3\\lib\\site-packages\\boruta\\boruta_py.py:384: DataConversionWarning: A column-vector y was passed when a 1d array was expected. Please change the shape of y to (n_samples,), for example using ravel().\n",
      "  self.estimator.fit(X, y)\n"
     ]
    },
    {
     "name": "stdout",
     "output_type": "stream",
     "text": [
      "Iteration: 34 / 100\n"
     ]
    },
    {
     "name": "stderr",
     "output_type": "stream",
     "text": [
      "C:\\Users\\Imtiyaj\\anaconda3\\lib\\site-packages\\boruta\\boruta_py.py:384: DataConversionWarning: A column-vector y was passed when a 1d array was expected. Please change the shape of y to (n_samples,), for example using ravel().\n",
      "  self.estimator.fit(X, y)\n"
     ]
    },
    {
     "name": "stdout",
     "output_type": "stream",
     "text": [
      "Iteration: 35 / 100\n"
     ]
    },
    {
     "name": "stderr",
     "output_type": "stream",
     "text": [
      "C:\\Users\\Imtiyaj\\anaconda3\\lib\\site-packages\\boruta\\boruta_py.py:384: DataConversionWarning: A column-vector y was passed when a 1d array was expected. Please change the shape of y to (n_samples,), for example using ravel().\n",
      "  self.estimator.fit(X, y)\n"
     ]
    },
    {
     "name": "stdout",
     "output_type": "stream",
     "text": [
      "Iteration: 36 / 100\n"
     ]
    },
    {
     "name": "stderr",
     "output_type": "stream",
     "text": [
      "C:\\Users\\Imtiyaj\\anaconda3\\lib\\site-packages\\boruta\\boruta_py.py:384: DataConversionWarning: A column-vector y was passed when a 1d array was expected. Please change the shape of y to (n_samples,), for example using ravel().\n",
      "  self.estimator.fit(X, y)\n"
     ]
    },
    {
     "name": "stdout",
     "output_type": "stream",
     "text": [
      "Iteration: 37 / 100\n"
     ]
    },
    {
     "name": "stderr",
     "output_type": "stream",
     "text": [
      "C:\\Users\\Imtiyaj\\anaconda3\\lib\\site-packages\\boruta\\boruta_py.py:384: DataConversionWarning: A column-vector y was passed when a 1d array was expected. Please change the shape of y to (n_samples,), for example using ravel().\n",
      "  self.estimator.fit(X, y)\n"
     ]
    },
    {
     "name": "stdout",
     "output_type": "stream",
     "text": [
      "Iteration: 38 / 100\n"
     ]
    },
    {
     "name": "stderr",
     "output_type": "stream",
     "text": [
      "C:\\Users\\Imtiyaj\\anaconda3\\lib\\site-packages\\boruta\\boruta_py.py:384: DataConversionWarning: A column-vector y was passed when a 1d array was expected. Please change the shape of y to (n_samples,), for example using ravel().\n",
      "  self.estimator.fit(X, y)\n"
     ]
    },
    {
     "name": "stdout",
     "output_type": "stream",
     "text": [
      "Iteration: 39 / 100\n"
     ]
    },
    {
     "name": "stderr",
     "output_type": "stream",
     "text": [
      "C:\\Users\\Imtiyaj\\anaconda3\\lib\\site-packages\\boruta\\boruta_py.py:384: DataConversionWarning: A column-vector y was passed when a 1d array was expected. Please change the shape of y to (n_samples,), for example using ravel().\n",
      "  self.estimator.fit(X, y)\n"
     ]
    },
    {
     "name": "stdout",
     "output_type": "stream",
     "text": [
      "Iteration: 40 / 100\n"
     ]
    },
    {
     "name": "stderr",
     "output_type": "stream",
     "text": [
      "C:\\Users\\Imtiyaj\\anaconda3\\lib\\site-packages\\boruta\\boruta_py.py:384: DataConversionWarning: A column-vector y was passed when a 1d array was expected. Please change the shape of y to (n_samples,), for example using ravel().\n",
      "  self.estimator.fit(X, y)\n"
     ]
    },
    {
     "name": "stdout",
     "output_type": "stream",
     "text": [
      "Iteration: 41 / 100\n"
     ]
    },
    {
     "name": "stderr",
     "output_type": "stream",
     "text": [
      "C:\\Users\\Imtiyaj\\anaconda3\\lib\\site-packages\\boruta\\boruta_py.py:384: DataConversionWarning: A column-vector y was passed when a 1d array was expected. Please change the shape of y to (n_samples,), for example using ravel().\n",
      "  self.estimator.fit(X, y)\n"
     ]
    },
    {
     "name": "stdout",
     "output_type": "stream",
     "text": [
      "Iteration: 42 / 100\n"
     ]
    },
    {
     "name": "stderr",
     "output_type": "stream",
     "text": [
      "C:\\Users\\Imtiyaj\\anaconda3\\lib\\site-packages\\boruta\\boruta_py.py:384: DataConversionWarning: A column-vector y was passed when a 1d array was expected. Please change the shape of y to (n_samples,), for example using ravel().\n",
      "  self.estimator.fit(X, y)\n"
     ]
    },
    {
     "name": "stdout",
     "output_type": "stream",
     "text": [
      "Iteration: 43 / 100\n"
     ]
    },
    {
     "name": "stderr",
     "output_type": "stream",
     "text": [
      "C:\\Users\\Imtiyaj\\anaconda3\\lib\\site-packages\\boruta\\boruta_py.py:384: DataConversionWarning: A column-vector y was passed when a 1d array was expected. Please change the shape of y to (n_samples,), for example using ravel().\n",
      "  self.estimator.fit(X, y)\n"
     ]
    },
    {
     "name": "stdout",
     "output_type": "stream",
     "text": [
      "Iteration: 44 / 100\n"
     ]
    },
    {
     "name": "stderr",
     "output_type": "stream",
     "text": [
      "C:\\Users\\Imtiyaj\\anaconda3\\lib\\site-packages\\boruta\\boruta_py.py:384: DataConversionWarning: A column-vector y was passed when a 1d array was expected. Please change the shape of y to (n_samples,), for example using ravel().\n",
      "  self.estimator.fit(X, y)\n"
     ]
    },
    {
     "name": "stdout",
     "output_type": "stream",
     "text": [
      "Iteration: 45 / 100\n"
     ]
    },
    {
     "name": "stderr",
     "output_type": "stream",
     "text": [
      "C:\\Users\\Imtiyaj\\anaconda3\\lib\\site-packages\\boruta\\boruta_py.py:384: DataConversionWarning: A column-vector y was passed when a 1d array was expected. Please change the shape of y to (n_samples,), for example using ravel().\n",
      "  self.estimator.fit(X, y)\n"
     ]
    },
    {
     "name": "stdout",
     "output_type": "stream",
     "text": [
      "Iteration: 46 / 100\n"
     ]
    },
    {
     "name": "stderr",
     "output_type": "stream",
     "text": [
      "C:\\Users\\Imtiyaj\\anaconda3\\lib\\site-packages\\boruta\\boruta_py.py:384: DataConversionWarning: A column-vector y was passed when a 1d array was expected. Please change the shape of y to (n_samples,), for example using ravel().\n",
      "  self.estimator.fit(X, y)\n"
     ]
    },
    {
     "name": "stdout",
     "output_type": "stream",
     "text": [
      "Iteration: 47 / 100\n"
     ]
    },
    {
     "name": "stderr",
     "output_type": "stream",
     "text": [
      "C:\\Users\\Imtiyaj\\anaconda3\\lib\\site-packages\\boruta\\boruta_py.py:384: DataConversionWarning: A column-vector y was passed when a 1d array was expected. Please change the shape of y to (n_samples,), for example using ravel().\n",
      "  self.estimator.fit(X, y)\n"
     ]
    },
    {
     "name": "stdout",
     "output_type": "stream",
     "text": [
      "Iteration: 48 / 100\n"
     ]
    },
    {
     "name": "stderr",
     "output_type": "stream",
     "text": [
      "C:\\Users\\Imtiyaj\\anaconda3\\lib\\site-packages\\boruta\\boruta_py.py:384: DataConversionWarning: A column-vector y was passed when a 1d array was expected. Please change the shape of y to (n_samples,), for example using ravel().\n",
      "  self.estimator.fit(X, y)\n"
     ]
    },
    {
     "name": "stdout",
     "output_type": "stream",
     "text": [
      "Iteration: 49 / 100\n"
     ]
    },
    {
     "name": "stderr",
     "output_type": "stream",
     "text": [
      "C:\\Users\\Imtiyaj\\anaconda3\\lib\\site-packages\\boruta\\boruta_py.py:384: DataConversionWarning: A column-vector y was passed when a 1d array was expected. Please change the shape of y to (n_samples,), for example using ravel().\n",
      "  self.estimator.fit(X, y)\n"
     ]
    },
    {
     "name": "stdout",
     "output_type": "stream",
     "text": [
      "Iteration: 50 / 100\n"
     ]
    },
    {
     "name": "stderr",
     "output_type": "stream",
     "text": [
      "C:\\Users\\Imtiyaj\\anaconda3\\lib\\site-packages\\boruta\\boruta_py.py:384: DataConversionWarning: A column-vector y was passed when a 1d array was expected. Please change the shape of y to (n_samples,), for example using ravel().\n",
      "  self.estimator.fit(X, y)\n"
     ]
    },
    {
     "name": "stdout",
     "output_type": "stream",
     "text": [
      "Iteration: 51 / 100\n"
     ]
    },
    {
     "name": "stderr",
     "output_type": "stream",
     "text": [
      "C:\\Users\\Imtiyaj\\anaconda3\\lib\\site-packages\\boruta\\boruta_py.py:384: DataConversionWarning: A column-vector y was passed when a 1d array was expected. Please change the shape of y to (n_samples,), for example using ravel().\n",
      "  self.estimator.fit(X, y)\n"
     ]
    },
    {
     "name": "stdout",
     "output_type": "stream",
     "text": [
      "Iteration: 52 / 100\n"
     ]
    },
    {
     "name": "stderr",
     "output_type": "stream",
     "text": [
      "C:\\Users\\Imtiyaj\\anaconda3\\lib\\site-packages\\boruta\\boruta_py.py:384: DataConversionWarning: A column-vector y was passed when a 1d array was expected. Please change the shape of y to (n_samples,), for example using ravel().\n",
      "  self.estimator.fit(X, y)\n"
     ]
    },
    {
     "name": "stdout",
     "output_type": "stream",
     "text": [
      "Iteration: 53 / 100\n"
     ]
    },
    {
     "name": "stderr",
     "output_type": "stream",
     "text": [
      "C:\\Users\\Imtiyaj\\anaconda3\\lib\\site-packages\\boruta\\boruta_py.py:384: DataConversionWarning: A column-vector y was passed when a 1d array was expected. Please change the shape of y to (n_samples,), for example using ravel().\n",
      "  self.estimator.fit(X, y)\n"
     ]
    },
    {
     "name": "stdout",
     "output_type": "stream",
     "text": [
      "Iteration: 54 / 100\n"
     ]
    },
    {
     "name": "stderr",
     "output_type": "stream",
     "text": [
      "C:\\Users\\Imtiyaj\\anaconda3\\lib\\site-packages\\boruta\\boruta_py.py:384: DataConversionWarning: A column-vector y was passed when a 1d array was expected. Please change the shape of y to (n_samples,), for example using ravel().\n",
      "  self.estimator.fit(X, y)\n"
     ]
    },
    {
     "name": "stdout",
     "output_type": "stream",
     "text": [
      "Iteration: 55 / 100\n"
     ]
    },
    {
     "name": "stderr",
     "output_type": "stream",
     "text": [
      "C:\\Users\\Imtiyaj\\anaconda3\\lib\\site-packages\\boruta\\boruta_py.py:384: DataConversionWarning: A column-vector y was passed when a 1d array was expected. Please change the shape of y to (n_samples,), for example using ravel().\n",
      "  self.estimator.fit(X, y)\n"
     ]
    },
    {
     "name": "stdout",
     "output_type": "stream",
     "text": [
      "Iteration: 56 / 100\n"
     ]
    },
    {
     "name": "stderr",
     "output_type": "stream",
     "text": [
      "C:\\Users\\Imtiyaj\\anaconda3\\lib\\site-packages\\boruta\\boruta_py.py:384: DataConversionWarning: A column-vector y was passed when a 1d array was expected. Please change the shape of y to (n_samples,), for example using ravel().\n",
      "  self.estimator.fit(X, y)\n"
     ]
    },
    {
     "name": "stdout",
     "output_type": "stream",
     "text": [
      "Iteration: 57 / 100\n"
     ]
    },
    {
     "name": "stderr",
     "output_type": "stream",
     "text": [
      "C:\\Users\\Imtiyaj\\anaconda3\\lib\\site-packages\\boruta\\boruta_py.py:384: DataConversionWarning: A column-vector y was passed when a 1d array was expected. Please change the shape of y to (n_samples,), for example using ravel().\n",
      "  self.estimator.fit(X, y)\n"
     ]
    },
    {
     "name": "stdout",
     "output_type": "stream",
     "text": [
      "Iteration: 58 / 100\n"
     ]
    },
    {
     "name": "stderr",
     "output_type": "stream",
     "text": [
      "C:\\Users\\Imtiyaj\\anaconda3\\lib\\site-packages\\boruta\\boruta_py.py:384: DataConversionWarning: A column-vector y was passed when a 1d array was expected. Please change the shape of y to (n_samples,), for example using ravel().\n",
      "  self.estimator.fit(X, y)\n"
     ]
    },
    {
     "name": "stdout",
     "output_type": "stream",
     "text": [
      "Iteration: 59 / 100\n"
     ]
    },
    {
     "name": "stderr",
     "output_type": "stream",
     "text": [
      "C:\\Users\\Imtiyaj\\anaconda3\\lib\\site-packages\\boruta\\boruta_py.py:384: DataConversionWarning: A column-vector y was passed when a 1d array was expected. Please change the shape of y to (n_samples,), for example using ravel().\n",
      "  self.estimator.fit(X, y)\n"
     ]
    },
    {
     "name": "stdout",
     "output_type": "stream",
     "text": [
      "Iteration: 60 / 100\n"
     ]
    },
    {
     "name": "stderr",
     "output_type": "stream",
     "text": [
      "C:\\Users\\Imtiyaj\\anaconda3\\lib\\site-packages\\boruta\\boruta_py.py:384: DataConversionWarning: A column-vector y was passed when a 1d array was expected. Please change the shape of y to (n_samples,), for example using ravel().\n",
      "  self.estimator.fit(X, y)\n"
     ]
    },
    {
     "name": "stdout",
     "output_type": "stream",
     "text": [
      "Iteration: 61 / 100\n"
     ]
    },
    {
     "name": "stderr",
     "output_type": "stream",
     "text": [
      "C:\\Users\\Imtiyaj\\anaconda3\\lib\\site-packages\\boruta\\boruta_py.py:384: DataConversionWarning: A column-vector y was passed when a 1d array was expected. Please change the shape of y to (n_samples,), for example using ravel().\n",
      "  self.estimator.fit(X, y)\n"
     ]
    },
    {
     "name": "stdout",
     "output_type": "stream",
     "text": [
      "Iteration: 62 / 100\n"
     ]
    },
    {
     "name": "stderr",
     "output_type": "stream",
     "text": [
      "C:\\Users\\Imtiyaj\\anaconda3\\lib\\site-packages\\boruta\\boruta_py.py:384: DataConversionWarning: A column-vector y was passed when a 1d array was expected. Please change the shape of y to (n_samples,), for example using ravel().\n",
      "  self.estimator.fit(X, y)\n"
     ]
    },
    {
     "name": "stdout",
     "output_type": "stream",
     "text": [
      "Iteration: 63 / 100\n"
     ]
    },
    {
     "name": "stderr",
     "output_type": "stream",
     "text": [
      "C:\\Users\\Imtiyaj\\anaconda3\\lib\\site-packages\\boruta\\boruta_py.py:384: DataConversionWarning: A column-vector y was passed when a 1d array was expected. Please change the shape of y to (n_samples,), for example using ravel().\n",
      "  self.estimator.fit(X, y)\n"
     ]
    },
    {
     "name": "stdout",
     "output_type": "stream",
     "text": [
      "Iteration: 64 / 100\n"
     ]
    },
    {
     "name": "stderr",
     "output_type": "stream",
     "text": [
      "C:\\Users\\Imtiyaj\\anaconda3\\lib\\site-packages\\boruta\\boruta_py.py:384: DataConversionWarning: A column-vector y was passed when a 1d array was expected. Please change the shape of y to (n_samples,), for example using ravel().\n",
      "  self.estimator.fit(X, y)\n"
     ]
    },
    {
     "name": "stdout",
     "output_type": "stream",
     "text": [
      "Iteration: 65 / 100\n"
     ]
    },
    {
     "name": "stderr",
     "output_type": "stream",
     "text": [
      "C:\\Users\\Imtiyaj\\anaconda3\\lib\\site-packages\\boruta\\boruta_py.py:384: DataConversionWarning: A column-vector y was passed when a 1d array was expected. Please change the shape of y to (n_samples,), for example using ravel().\n",
      "  self.estimator.fit(X, y)\n"
     ]
    },
    {
     "name": "stdout",
     "output_type": "stream",
     "text": [
      "Iteration: 66 / 100\n"
     ]
    },
    {
     "name": "stderr",
     "output_type": "stream",
     "text": [
      "C:\\Users\\Imtiyaj\\anaconda3\\lib\\site-packages\\boruta\\boruta_py.py:384: DataConversionWarning: A column-vector y was passed when a 1d array was expected. Please change the shape of y to (n_samples,), for example using ravel().\n",
      "  self.estimator.fit(X, y)\n"
     ]
    },
    {
     "name": "stdout",
     "output_type": "stream",
     "text": [
      "Iteration: 67 / 100\n"
     ]
    },
    {
     "name": "stderr",
     "output_type": "stream",
     "text": [
      "C:\\Users\\Imtiyaj\\anaconda3\\lib\\site-packages\\boruta\\boruta_py.py:384: DataConversionWarning: A column-vector y was passed when a 1d array was expected. Please change the shape of y to (n_samples,), for example using ravel().\n",
      "  self.estimator.fit(X, y)\n"
     ]
    },
    {
     "name": "stdout",
     "output_type": "stream",
     "text": [
      "Iteration: 68 / 100\n"
     ]
    },
    {
     "name": "stderr",
     "output_type": "stream",
     "text": [
      "C:\\Users\\Imtiyaj\\anaconda3\\lib\\site-packages\\boruta\\boruta_py.py:384: DataConversionWarning: A column-vector y was passed when a 1d array was expected. Please change the shape of y to (n_samples,), for example using ravel().\n",
      "  self.estimator.fit(X, y)\n"
     ]
    },
    {
     "name": "stdout",
     "output_type": "stream",
     "text": [
      "Iteration: 69 / 100\n"
     ]
    },
    {
     "name": "stderr",
     "output_type": "stream",
     "text": [
      "C:\\Users\\Imtiyaj\\anaconda3\\lib\\site-packages\\boruta\\boruta_py.py:384: DataConversionWarning: A column-vector y was passed when a 1d array was expected. Please change the shape of y to (n_samples,), for example using ravel().\n",
      "  self.estimator.fit(X, y)\n"
     ]
    },
    {
     "name": "stdout",
     "output_type": "stream",
     "text": [
      "Iteration: 70 / 100\n"
     ]
    },
    {
     "name": "stderr",
     "output_type": "stream",
     "text": [
      "C:\\Users\\Imtiyaj\\anaconda3\\lib\\site-packages\\boruta\\boruta_py.py:384: DataConversionWarning: A column-vector y was passed when a 1d array was expected. Please change the shape of y to (n_samples,), for example using ravel().\n",
      "  self.estimator.fit(X, y)\n"
     ]
    },
    {
     "name": "stdout",
     "output_type": "stream",
     "text": [
      "Iteration: 71 / 100\n"
     ]
    },
    {
     "name": "stderr",
     "output_type": "stream",
     "text": [
      "C:\\Users\\Imtiyaj\\anaconda3\\lib\\site-packages\\boruta\\boruta_py.py:384: DataConversionWarning: A column-vector y was passed when a 1d array was expected. Please change the shape of y to (n_samples,), for example using ravel().\n",
      "  self.estimator.fit(X, y)\n"
     ]
    },
    {
     "name": "stdout",
     "output_type": "stream",
     "text": [
      "Iteration: 72 / 100\n"
     ]
    },
    {
     "name": "stderr",
     "output_type": "stream",
     "text": [
      "C:\\Users\\Imtiyaj\\anaconda3\\lib\\site-packages\\boruta\\boruta_py.py:384: DataConversionWarning: A column-vector y was passed when a 1d array was expected. Please change the shape of y to (n_samples,), for example using ravel().\n",
      "  self.estimator.fit(X, y)\n"
     ]
    },
    {
     "name": "stdout",
     "output_type": "stream",
     "text": [
      "Iteration: 73 / 100\n"
     ]
    },
    {
     "name": "stderr",
     "output_type": "stream",
     "text": [
      "C:\\Users\\Imtiyaj\\anaconda3\\lib\\site-packages\\boruta\\boruta_py.py:384: DataConversionWarning: A column-vector y was passed when a 1d array was expected. Please change the shape of y to (n_samples,), for example using ravel().\n",
      "  self.estimator.fit(X, y)\n"
     ]
    },
    {
     "name": "stdout",
     "output_type": "stream",
     "text": [
      "Iteration: 74 / 100\n"
     ]
    },
    {
     "name": "stderr",
     "output_type": "stream",
     "text": [
      "C:\\Users\\Imtiyaj\\anaconda3\\lib\\site-packages\\boruta\\boruta_py.py:384: DataConversionWarning: A column-vector y was passed when a 1d array was expected. Please change the shape of y to (n_samples,), for example using ravel().\n",
      "  self.estimator.fit(X, y)\n"
     ]
    },
    {
     "name": "stdout",
     "output_type": "stream",
     "text": [
      "Iteration: 75 / 100\n"
     ]
    },
    {
     "name": "stderr",
     "output_type": "stream",
     "text": [
      "C:\\Users\\Imtiyaj\\anaconda3\\lib\\site-packages\\boruta\\boruta_py.py:384: DataConversionWarning: A column-vector y was passed when a 1d array was expected. Please change the shape of y to (n_samples,), for example using ravel().\n",
      "  self.estimator.fit(X, y)\n"
     ]
    },
    {
     "name": "stdout",
     "output_type": "stream",
     "text": [
      "Iteration: 76 / 100\n"
     ]
    },
    {
     "name": "stderr",
     "output_type": "stream",
     "text": [
      "C:\\Users\\Imtiyaj\\anaconda3\\lib\\site-packages\\boruta\\boruta_py.py:384: DataConversionWarning: A column-vector y was passed when a 1d array was expected. Please change the shape of y to (n_samples,), for example using ravel().\n",
      "  self.estimator.fit(X, y)\n"
     ]
    },
    {
     "name": "stdout",
     "output_type": "stream",
     "text": [
      "Iteration: 77 / 100\n"
     ]
    },
    {
     "name": "stderr",
     "output_type": "stream",
     "text": [
      "C:\\Users\\Imtiyaj\\anaconda3\\lib\\site-packages\\boruta\\boruta_py.py:384: DataConversionWarning: A column-vector y was passed when a 1d array was expected. Please change the shape of y to (n_samples,), for example using ravel().\n",
      "  self.estimator.fit(X, y)\n"
     ]
    },
    {
     "name": "stdout",
     "output_type": "stream",
     "text": [
      "Iteration: 78 / 100\n"
     ]
    },
    {
     "name": "stderr",
     "output_type": "stream",
     "text": [
      "C:\\Users\\Imtiyaj\\anaconda3\\lib\\site-packages\\boruta\\boruta_py.py:384: DataConversionWarning: A column-vector y was passed when a 1d array was expected. Please change the shape of y to (n_samples,), for example using ravel().\n",
      "  self.estimator.fit(X, y)\n"
     ]
    },
    {
     "name": "stdout",
     "output_type": "stream",
     "text": [
      "Iteration: 79 / 100\n"
     ]
    },
    {
     "name": "stderr",
     "output_type": "stream",
     "text": [
      "C:\\Users\\Imtiyaj\\anaconda3\\lib\\site-packages\\boruta\\boruta_py.py:384: DataConversionWarning: A column-vector y was passed when a 1d array was expected. Please change the shape of y to (n_samples,), for example using ravel().\n",
      "  self.estimator.fit(X, y)\n"
     ]
    },
    {
     "name": "stdout",
     "output_type": "stream",
     "text": [
      "Iteration: 80 / 100\n"
     ]
    },
    {
     "name": "stderr",
     "output_type": "stream",
     "text": [
      "C:\\Users\\Imtiyaj\\anaconda3\\lib\\site-packages\\boruta\\boruta_py.py:384: DataConversionWarning: A column-vector y was passed when a 1d array was expected. Please change the shape of y to (n_samples,), for example using ravel().\n",
      "  self.estimator.fit(X, y)\n"
     ]
    },
    {
     "name": "stdout",
     "output_type": "stream",
     "text": [
      "Iteration: 81 / 100\n"
     ]
    },
    {
     "name": "stderr",
     "output_type": "stream",
     "text": [
      "C:\\Users\\Imtiyaj\\anaconda3\\lib\\site-packages\\boruta\\boruta_py.py:384: DataConversionWarning: A column-vector y was passed when a 1d array was expected. Please change the shape of y to (n_samples,), for example using ravel().\n",
      "  self.estimator.fit(X, y)\n"
     ]
    },
    {
     "name": "stdout",
     "output_type": "stream",
     "text": [
      "Iteration: 82 / 100\n"
     ]
    },
    {
     "name": "stderr",
     "output_type": "stream",
     "text": [
      "C:\\Users\\Imtiyaj\\anaconda3\\lib\\site-packages\\boruta\\boruta_py.py:384: DataConversionWarning: A column-vector y was passed when a 1d array was expected. Please change the shape of y to (n_samples,), for example using ravel().\n",
      "  self.estimator.fit(X, y)\n"
     ]
    },
    {
     "name": "stdout",
     "output_type": "stream",
     "text": [
      "Iteration: 83 / 100\n"
     ]
    },
    {
     "name": "stderr",
     "output_type": "stream",
     "text": [
      "C:\\Users\\Imtiyaj\\anaconda3\\lib\\site-packages\\boruta\\boruta_py.py:384: DataConversionWarning: A column-vector y was passed when a 1d array was expected. Please change the shape of y to (n_samples,), for example using ravel().\n",
      "  self.estimator.fit(X, y)\n"
     ]
    },
    {
     "name": "stdout",
     "output_type": "stream",
     "text": [
      "Iteration: 84 / 100\n"
     ]
    },
    {
     "name": "stderr",
     "output_type": "stream",
     "text": [
      "C:\\Users\\Imtiyaj\\anaconda3\\lib\\site-packages\\boruta\\boruta_py.py:384: DataConversionWarning: A column-vector y was passed when a 1d array was expected. Please change the shape of y to (n_samples,), for example using ravel().\n",
      "  self.estimator.fit(X, y)\n"
     ]
    },
    {
     "name": "stdout",
     "output_type": "stream",
     "text": [
      "Iteration: 85 / 100\n"
     ]
    },
    {
     "name": "stderr",
     "output_type": "stream",
     "text": [
      "C:\\Users\\Imtiyaj\\anaconda3\\lib\\site-packages\\boruta\\boruta_py.py:384: DataConversionWarning: A column-vector y was passed when a 1d array was expected. Please change the shape of y to (n_samples,), for example using ravel().\n",
      "  self.estimator.fit(X, y)\n"
     ]
    },
    {
     "name": "stdout",
     "output_type": "stream",
     "text": [
      "Iteration: 86 / 100\n"
     ]
    },
    {
     "name": "stderr",
     "output_type": "stream",
     "text": [
      "C:\\Users\\Imtiyaj\\anaconda3\\lib\\site-packages\\boruta\\boruta_py.py:384: DataConversionWarning: A column-vector y was passed when a 1d array was expected. Please change the shape of y to (n_samples,), for example using ravel().\n",
      "  self.estimator.fit(X, y)\n"
     ]
    },
    {
     "name": "stdout",
     "output_type": "stream",
     "text": [
      "Iteration: 87 / 100\n"
     ]
    },
    {
     "name": "stderr",
     "output_type": "stream",
     "text": [
      "C:\\Users\\Imtiyaj\\anaconda3\\lib\\site-packages\\boruta\\boruta_py.py:384: DataConversionWarning: A column-vector y was passed when a 1d array was expected. Please change the shape of y to (n_samples,), for example using ravel().\n",
      "  self.estimator.fit(X, y)\n"
     ]
    },
    {
     "name": "stdout",
     "output_type": "stream",
     "text": [
      "Iteration: 88 / 100\n"
     ]
    },
    {
     "name": "stderr",
     "output_type": "stream",
     "text": [
      "C:\\Users\\Imtiyaj\\anaconda3\\lib\\site-packages\\boruta\\boruta_py.py:384: DataConversionWarning: A column-vector y was passed when a 1d array was expected. Please change the shape of y to (n_samples,), for example using ravel().\n",
      "  self.estimator.fit(X, y)\n"
     ]
    },
    {
     "name": "stdout",
     "output_type": "stream",
     "text": [
      "Iteration: 89 / 100\n"
     ]
    },
    {
     "name": "stderr",
     "output_type": "stream",
     "text": [
      "C:\\Users\\Imtiyaj\\anaconda3\\lib\\site-packages\\boruta\\boruta_py.py:384: DataConversionWarning: A column-vector y was passed when a 1d array was expected. Please change the shape of y to (n_samples,), for example using ravel().\n",
      "  self.estimator.fit(X, y)\n"
     ]
    },
    {
     "name": "stdout",
     "output_type": "stream",
     "text": [
      "Iteration: 90 / 100\n"
     ]
    },
    {
     "name": "stderr",
     "output_type": "stream",
     "text": [
      "C:\\Users\\Imtiyaj\\anaconda3\\lib\\site-packages\\boruta\\boruta_py.py:384: DataConversionWarning: A column-vector y was passed when a 1d array was expected. Please change the shape of y to (n_samples,), for example using ravel().\n",
      "  self.estimator.fit(X, y)\n"
     ]
    },
    {
     "name": "stdout",
     "output_type": "stream",
     "text": [
      "Iteration: 91 / 100\n"
     ]
    },
    {
     "name": "stderr",
     "output_type": "stream",
     "text": [
      "C:\\Users\\Imtiyaj\\anaconda3\\lib\\site-packages\\boruta\\boruta_py.py:384: DataConversionWarning: A column-vector y was passed when a 1d array was expected. Please change the shape of y to (n_samples,), for example using ravel().\n",
      "  self.estimator.fit(X, y)\n"
     ]
    },
    {
     "name": "stdout",
     "output_type": "stream",
     "text": [
      "Iteration: 92 / 100\n"
     ]
    },
    {
     "name": "stderr",
     "output_type": "stream",
     "text": [
      "C:\\Users\\Imtiyaj\\anaconda3\\lib\\site-packages\\boruta\\boruta_py.py:384: DataConversionWarning: A column-vector y was passed when a 1d array was expected. Please change the shape of y to (n_samples,), for example using ravel().\n",
      "  self.estimator.fit(X, y)\n"
     ]
    },
    {
     "name": "stdout",
     "output_type": "stream",
     "text": [
      "Iteration: 93 / 100\n"
     ]
    },
    {
     "name": "stderr",
     "output_type": "stream",
     "text": [
      "C:\\Users\\Imtiyaj\\anaconda3\\lib\\site-packages\\boruta\\boruta_py.py:384: DataConversionWarning: A column-vector y was passed when a 1d array was expected. Please change the shape of y to (n_samples,), for example using ravel().\n",
      "  self.estimator.fit(X, y)\n"
     ]
    },
    {
     "name": "stdout",
     "output_type": "stream",
     "text": [
      "Iteration: 94 / 100\n"
     ]
    },
    {
     "name": "stderr",
     "output_type": "stream",
     "text": [
      "C:\\Users\\Imtiyaj\\anaconda3\\lib\\site-packages\\boruta\\boruta_py.py:384: DataConversionWarning: A column-vector y was passed when a 1d array was expected. Please change the shape of y to (n_samples,), for example using ravel().\n",
      "  self.estimator.fit(X, y)\n"
     ]
    },
    {
     "name": "stdout",
     "output_type": "stream",
     "text": [
      "Iteration: 95 / 100\n"
     ]
    },
    {
     "name": "stderr",
     "output_type": "stream",
     "text": [
      "C:\\Users\\Imtiyaj\\anaconda3\\lib\\site-packages\\boruta\\boruta_py.py:384: DataConversionWarning: A column-vector y was passed when a 1d array was expected. Please change the shape of y to (n_samples,), for example using ravel().\n",
      "  self.estimator.fit(X, y)\n"
     ]
    },
    {
     "name": "stdout",
     "output_type": "stream",
     "text": [
      "Iteration: 96 / 100\n"
     ]
    },
    {
     "name": "stderr",
     "output_type": "stream",
     "text": [
      "C:\\Users\\Imtiyaj\\anaconda3\\lib\\site-packages\\boruta\\boruta_py.py:384: DataConversionWarning: A column-vector y was passed when a 1d array was expected. Please change the shape of y to (n_samples,), for example using ravel().\n",
      "  self.estimator.fit(X, y)\n"
     ]
    },
    {
     "name": "stdout",
     "output_type": "stream",
     "text": [
      "Iteration: 97 / 100\n"
     ]
    },
    {
     "name": "stderr",
     "output_type": "stream",
     "text": [
      "C:\\Users\\Imtiyaj\\anaconda3\\lib\\site-packages\\boruta\\boruta_py.py:384: DataConversionWarning: A column-vector y was passed when a 1d array was expected. Please change the shape of y to (n_samples,), for example using ravel().\n",
      "  self.estimator.fit(X, y)\n"
     ]
    },
    {
     "name": "stdout",
     "output_type": "stream",
     "text": [
      "Iteration: 98 / 100\n"
     ]
    },
    {
     "name": "stderr",
     "output_type": "stream",
     "text": [
      "C:\\Users\\Imtiyaj\\anaconda3\\lib\\site-packages\\boruta\\boruta_py.py:384: DataConversionWarning: A column-vector y was passed when a 1d array was expected. Please change the shape of y to (n_samples,), for example using ravel().\n",
      "  self.estimator.fit(X, y)\n"
     ]
    },
    {
     "name": "stdout",
     "output_type": "stream",
     "text": [
      "Iteration: 99 / 100\n",
      "\n",
      "\n",
      "BorutaPy finished running.\n",
      "\n",
      "Iteration: \t100 / 100\n",
      "Confirmed: \t20\n",
      "Tentative: \t1\n",
      "Rejected: \t151\n",
      "[ True  True False  True False  True False  True False False False False\n",
      "  True False False False False  True False False False False  True False\n",
      "  True  True  True  True  True  True  True  True  True  True  True  True\n",
      " False False False False False False False False False False False False\n",
      " False False False False False False False False False False False False\n",
      " False False False False False False False False False False False False\n",
      " False False False False False False False False False False False False\n",
      " False False False False False False False False False False False False\n",
      " False False False False False False False False False False False False\n",
      " False False False False False False False False False False False False\n",
      " False False False False False False False False False False False False\n",
      " False False False False False False False False False False False False\n",
      " False False False False False False False False False False False False\n",
      " False False False False False False False False False False False False\n",
      " False False False False]\n",
      "[1 1 2 1 3 1 3 1 3 3 3 3 1 3 3 3 3 1 3 3 3 3 1 3 1 1 1 1 1 1 1 1 1 1 1 1 3\n",
      " 3 3 3 3 3 3 3 3 3 3 3 3 3 3 3 3 3 3 3 3 3 3 3 3 3 3 3 3 3 3 3 3 3 3 3 3 3\n",
      " 3 3 3 3 3 3 3 3 3 3 3 3 3 3 3 3 3 3 3 3 3 3 3 3 3 3 3 3 3 3 3 3 3 3 3 3 3\n",
      " 3 3 3 3 3 3 3 3 3 3 3 3 3 3 3 3 3 3 3 3 3 3 3 3 3 3 3 3 3 3 3 3 3 3 3 3 3\n",
      " 3 3 3 3 3 3 3 3 3 3 3 3 3 3 3 3 3 3 3 3 3 3 3 3]\n"
     ]
    }
   ],
   "source": [
    "from sklearn.ensemble import RandomForestClassifier\n",
    "model =RandomForestClassifier(max_depth=1) #For Boruta\n",
    "from boruta import BorutaPy\n",
    "feat_selector = BorutaPy(model, n_estimators='auto', verbose=1, random_state=101)\n",
    "feat_selector.fit(X,Labels)\n",
    "print(feat_selector.support_)  #Should we accept the featur\n",
    "print(feat_selector.ranking_) #Rank 1 is the best\n",
    "X_filtered1 = feat_selector.transform(X)  #Apply feature selection and return transformed data"
   ]
  },
  {
   "cell_type": "code",
   "execution_count": 858,
   "id": "415b8680",
   "metadata": {},
   "outputs": [],
   "source": [
    "Final_selected=X_filtered1"
   ]
  },
  {
   "cell_type": "code",
   "execution_count": 859,
   "id": "6bf7e98e",
   "metadata": {},
   "outputs": [],
   "source": [
    "from sklearn.preprocessing import MinMaxScaler\n",
    "\n",
    "Final_selected =  (Final_selected - Final_selected.mean()) / Final_selected.std()\n",
    "scaler = MinMaxScaler(feature_range=(0, 1))                        #Again, It normalized the whole dataset between 0 and 1.\n",
    "Final_selected = scaler.fit_transform(Final_selected)"
   ]
  },
  {
   "cell_type": "code",
   "execution_count": 860,
   "id": "49009a38",
   "metadata": {},
   "outputs": [],
   "source": [
    "#This step divided the whole dataset into training and testing by keeping test size 20%\n",
    "\n",
    "X_train, X_test,y_train, y_test = train_test_split(Final_selected,Labels, test_size=0.20,random_state=9)"
   ]
  },
  {
   "cell_type": "code",
   "execution_count": 861,
   "id": "53446bed",
   "metadata": {},
   "outputs": [
    {
     "name": "stdout",
     "output_type": "stream",
     "text": [
      "training features = (7999, 20)\n",
      "testing features   = (7999, 1)\n",
      "training labels= (2000, 20)\n",
      "testing labels = (2000, 1)\n"
     ]
    }
   ],
   "source": [
    "print('training features =',X_train.shape)\n",
    "print('testing features   =',y_train.shape)\n",
    "print('training labels=',X_test.shape)\n",
    "print('testing labels =',y_test.shape)"
   ]
  },
  {
   "cell_type": "markdown",
   "id": "3cb5052f",
   "metadata": {},
   "source": [
    "# RandomForest (RF)"
   ]
  },
  {
   "cell_type": "code",
   "execution_count": 878,
   "id": "1673bc0f",
   "metadata": {},
   "outputs": [
    {
     "name": "stderr",
     "output_type": "stream",
     "text": [
      "C:\\Users\\Imtiyaj\\AppData\\Local\\Temp\\ipykernel_13340\\3555883167.py:3: DataConversionWarning: A column-vector y was passed when a 1d array was expected. Please change the shape of y to (n_samples,), for example using ravel().\n",
      "  modelRF.fit(X_train, y_train)\n"
     ]
    },
    {
     "name": "stdout",
     "output_type": "stream",
     "text": [
      "              precision    recall  f1-score   support\n",
      "\n",
      "           0       1.00      0.99      0.99       287\n",
      "           1       1.00      1.00      1.00      1713\n",
      "\n",
      "    accuracy                           1.00      2000\n",
      "   macro avg       1.00      0.99      1.00      2000\n",
      "weighted avg       1.00      1.00      1.00      2000\n",
      "\n",
      "RF Accuracy : 99.85%\n",
      "[[ 284    3]\n",
      " [   0 1713]]\n"
     ]
    }
   ],
   "source": [
    "from sklearn.ensemble import RandomForestClassifier\n",
    "modelRF = RandomForestClassifier(n_estimators=100)       \n",
    "modelRF.fit(X_train, y_train)\n",
    "prediction = modelRF.predict(X_test)\n",
    "s7=accuracy_score(y_test,prediction)\n",
    "print(classification_report(y_test, prediction))\n",
    "print(\"RF Accuracy :\", \"{:.2f}%\".format(100*s7))\n",
    "print(confusion_matrix(y_test, prediction))"
   ]
  },
  {
   "cell_type": "code",
   "execution_count": 874,
   "id": "d209bd41",
   "metadata": {},
   "outputs": [],
   "source": [
    "# plot_confusion_matrix(modelRF, X_test, y_test, cmap = 'Blues')\n",
    "# plt.grid(False)"
   ]
  },
  {
   "cell_type": "code",
   "execution_count": 866,
   "id": "861c5d43",
   "metadata": {},
   "outputs": [
    {
     "data": {
      "image/png": "[encoded data removed]",
      "text/plain": [
       "<Figure size 640x480 with 1 Axes>"
      ]
     },
     "metadata": {},
     "output_type": "display_data"
    }
   ],
   "source": [
    "from sklearn.metrics import roc_curve\n",
    "\n",
    "#Predicting proba\n",
    "y_pred_prob = modelRF.predict_proba(X_test)[:,1]\n",
    "\n",
    "# Generate ROC curve values: fpr, tpr, thresholds\n",
    "fpr, tpr, thresholds = roc_curve(y_test, y_pred_prob)\n",
    "\n",
    "# Plot ROC curve\n",
    "plt.plot([0, 1], [0, 1], 'k--')\n",
    "plt.plot(fpr, tpr)\n",
    "plt.xlabel('False Positive Rate')\n",
    "plt.ylabel('True Positive Rate')\n",
    "plt.title('ROC Curve')\n",
    "plt.show()"
   ]
  },
  {
   "cell_type": "markdown",
   "id": "fe038943",
   "metadata": {},
   "source": [
    "# SVM"
   ]
  },
  {
   "cell_type": "code",
   "execution_count": 882,
   "id": "b99d70e1",
   "metadata": {},
   "outputs": [
    {
     "name": "stderr",
     "output_type": "stream",
     "text": [
      "C:\\Users\\Imtiyaj\\anaconda3\\lib\\site-packages\\sklearn\\utils\\validation.py:993: DataConversionWarning: A column-vector y was passed when a 1d array was expected. Please change the shape of y to (n_samples, ), for example using ravel().\n",
      "  y = column_or_1d(y, warn=True)\n"
     ]
    },
    {
     "name": "stdout",
     "output_type": "stream",
     "text": [
      "              precision    recall  f1-score   support\n",
      "\n",
      "           0       1.00      0.98      0.99       287\n",
      "           1       1.00      1.00      1.00      1713\n",
      "\n",
      "    accuracy                           1.00      2000\n",
      "   macro avg       1.00      0.99      0.99      2000\n",
      "weighted avg       1.00      1.00      1.00      2000\n",
      "\n",
      "SVM Accuracy : 99.60%\n",
      "[[ 280    7]\n",
      " [   1 1712]]\n"
     ]
    }
   ],
   "source": [
    "from sklearn.svm import SVC\n",
    "from sklearn import svm\n",
    "#model = svm.LinearSVC(multi_class=\"ovr\")\n",
    "modelSVM = svm.SVC(kernel='rbf', gamma=7.9, C=20, decision_function_shape='ovo')\n",
    "modelSVM.fit(X_train, y_train)\n",
    "prediction = modelSVM.predict(X_test)\n",
    "s7=accuracy_score(y_test,prediction)\n",
    "print(classification_report(y_test, prediction))\n",
    "print(\"SVM Accuracy :\", \"{:.2f}%\".format(100*s7))\n",
    "print(confusion_matrix(y_test, prediction))"
   ]
  },
  {
   "cell_type": "code",
   "execution_count": null,
   "id": "b40dd987",
   "metadata": {},
   "outputs": [],
   "source": []
  }
 ],
 "metadata": {
  "kernelspec": {
   "display_name": "Python 3 (ipykernel)",
   "language": "python",
   "name": "python3"
  },
  "language_info": {
   "codemirror_mode": {
    "name": "ipython",
    "version": 3
   },
   "file_extension": ".py",
   "mimetype": "text/x-python",
   "name": "python",
   "nbconvert_exporter": "python",
   "pygments_lexer": "ipython3",
   "version": "3.9.13"
  }
 },
 "nbformat": 4,
 "nbformat_minor": 5
}
